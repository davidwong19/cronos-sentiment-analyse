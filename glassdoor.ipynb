{
 "cells": [
  {
   "cell_type": "code",
   "execution_count": 2,
   "metadata": {},
   "outputs": [
    {
     "name": "stdout",
     "output_type": "stream",
     "text": [
      "Company car, benefits, network with tons of companies/people, training opportunities, Sinterklaasfeest\n",
      "leuke omgeving (innovatief, vooruitstrevend, inclusief)\n",
      "- Platte structuur\n",
      "- Je bepaald zelf de loop van je carrière\n",
      "- De vele subbedrijven zorgen ervoor dat je eenvoudig van werkgever kan veranderen terwijl je toch nog voor Cronos blijft werken\n",
      "- Mogelijkheid om zelf je bedrijf te starten onder Cronos zonder veel risico\n",
      "Ondernemen wordt beloond & zelfstandig autonoom te werk gaan\n",
      "- OK salaris\n",
      "- Veel opportuniteiten\n",
      "toffe collega's, dynamische sfeer, veel afwisseling\n",
      "Sfeer, open, leuke collegas, cronos voordelen\n",
      "Kansen zijn beschikbaar voor ondernemerschap\n",
      "Samenwerken met mensen van hoog technisch expertise niveau\n",
      "Je kan hier echt jezelf ontwikkelen, leuke collega's, dynamische sfeer en zeer veel variëteit. Hier hebben ze oog voor wat je doet en zegt\n",
      "Veel kennis verspreid over verschillende bedrijven\n"
     ]
    }
   ],
   "source": [
    "\n",
    "from email import header\n",
    "from click import command\n",
    "import requests\n",
    "from bs4 import BeautifulSoup\n",
    "from sympy import div\n",
    "\n",
    "def extract(page):\n",
    "    headers = {'User-Agent': 'Mozilla/5.0 (Windows NT 10.0; Win64; x64) AppleWebKit/537.36 (KHTML, like Gecko) Chrome/101.0.4951.41 Safari/537.36'}\n",
    "    url = f'https://nl.glassdoor.be/Reviews/Cronos-Reviews-E871033_{page}.htm?filter.iso3Language=nld'\n",
    "    r = requests.get(url,headers=headers)\n",
    "    soup = BeautifulSoup(r.content, 'html.parser')\n",
    "    return soup\n",
    "\n",
    "def transform(soup):\n",
    "    divs = soup.find_all('div', class_ = 'gdReview')\n",
    "    for item in divs:\n",
    "        author_info = item.find('span', class_ = 'authorJobTitle').text.strip()\n",
    "        pros = item.find('p', class_ = 'mt-0 mb-0 pb v2__EIReviewDetailsV2__bodyColor v2__EIReviewDetailsV2__lineHeightLarge v2__EIReviewDetailsV2__isExpanded').text.strip()\n",
    "        cons = item.find('p', class_ = 'mt-0 mb-0 pb v2__EIReviewDetailsV2__bodyColor v2__EIReviewDetailsV2__lineHeightLarge v2__EIReviewDetailsV2__isExpanded').text.strip()\n",
    "        print(cons)\n",
    "\n",
    "c = extract('P1')\n",
    "transform(c)"
   ]
  },
  {
   "cell_type": "code",
   "execution_count": 10,
   "metadata": {},
   "outputs": [
    {
     "data": {
      "text/plain": [
       "[<span data-test=\"cons\">Career path is very horizontal</span>,\n",
       " <span data-test=\"cons\">complexe interne structuren mbt cluster en subclusters</span>,\n",
       " <span data-test=\"cons\">- Functioneringsgesprekken en de bijbehorende loononderhandelingen zijn vaak een maat voor niets. Op voorhand zijn de bedragen reeds vastgelegd. Als je voluit voor een hogere opslag gaat krijg je dat jaar 50EUR meer en het jaar nadien dan weer 50EUR minder. Dit is echter in elk groter bedrijf zo.</span>,\n",
       " <span data-test=\"cons\">Loon is niet marktconform helaas</span>,\n",
       " <span data-test=\"cons\">- Op een ander verdien je meer...\n",
       " - doorgroeimogelijkheden zijn relatief beperkt omdat je uiteindelijk voor een klein bedrijfje werkt binnen de groep</span>,\n",
       " <span data-test=\"cons\">moeilijke onderhandeling over loon, verwachtingen van recruitment niet altijd realistisch</span>,\n",
       " <span data-test=\"cons\">Lage lonen tegenover andere bedrijven. Moeilijk onderhandelen</span>,\n",
       " <span data-test=\"cons\">Organisatorisch complex\n",
       " Samenwerking onderling niet altijd eenvoudig</span>,\n",
       " <span data-test=\"cons\">Werkdruk maar dat is in de hele IT sector zo</span>,\n",
       " <span data-test=\"cons\">Omdat je vaak bij de klant zit kan je weinig profiteren van de faciliteiten die cronos zelf aanbied in het hoofdkantoor</span>]"
      ]
     },
     "execution_count": 10,
     "metadata": {},
     "output_type": "execute_result"
    }
   ],
   "source": [
    "headers = {'User-Agent': 'Mozilla/5.0 (Windows NT 10.0; Win64; x64) AppleWebKit/537.36 (KHTML, like Gecko) Chrome/101.0.4951.41 Safari/537.36'}\n",
    "url = f'https://nl.glassdoor.be/Reviews/Cronos-Reviews-E871033.htm?filter.iso3Language=nld'\n",
    "r = requests.get(url,headers=headers)\n",
    "soup = BeautifulSoup(r.content, 'html.parser')\n",
    "oke = soup.find_all('span',{ \"data-test\" : \"cons\"})\n",
    "\n",
    "oke\n",
    "\n"
   ]
  },
  {
   "cell_type": "code",
   "execution_count": 14,
   "metadata": {},
   "outputs": [
    {
     "name": "stdout",
     "output_type": "stream",
     "text": [
      "Company car, benefits, network with tons of companies/people, training opportunities, Sinterklaasfeest\n",
      "leuke omgeving (innovatief, vooruitstrevend, inclusief)\n",
      "- Platte structuur\n",
      "- Je bepaald zelf de loop van je carrière\n",
      "- De vele subbedrijven zorgen ervoor dat je eenvoudig van werkgever kan veranderen terwijl je toch nog voor Cronos blijft werken\n",
      "- Mogelijkheid om zelf je bedrijf te starten onder Cronos zonder veel risico\n",
      "Ondernemen wordt beloond & zelfstandig autonoom te werk gaan\n",
      "- OK salaris\n",
      "- Veel opportuniteiten\n",
      "toffe collega's, dynamische sfeer, veel afwisseling\n",
      "Sfeer, open, leuke collegas, cronos voordelen\n",
      "Kansen zijn beschikbaar voor ondernemerschap\n",
      "Samenwerken met mensen van hoog technisch expertise niveau\n",
      "Je kan hier echt jezelf ontwikkelen, leuke collega's, dynamische sfeer en zeer veel variëteit. Hier hebben ze oog voor wat je doet en zegt\n",
      "Veel kennis verspreid over verschillende bedrijven\n"
     ]
    }
   ],
   "source": [
    "oke = soup.find_all('span',{ \"data-test\" : \"pros\"})\n",
    "for ok in oke:\n",
    "     s = ok.text.strip()\n",
    "     print(s)"
   ]
  },
  {
   "cell_type": "code",
   "execution_count": 12,
   "metadata": {},
   "outputs": [
    {
     "data": {
      "text/plain": [
       "[]"
      ]
     },
     "execution_count": 12,
     "metadata": {},
     "output_type": "execute_result"
    }
   ],
   "source": []
  }
 ],
 "metadata": {
  "interpreter": {
   "hash": "2b98e5309e6e3b0bade2ed4a1aa225e8ff7275f11bed2b4c0572310c8cf94ab4"
  },
  "kernelspec": {
   "display_name": "Python 3.9.7 ('base')",
   "language": "python",
   "name": "python3"
  },
  "language_info": {
   "codemirror_mode": {
    "name": "ipython",
    "version": 3
   },
   "file_extension": ".py",
   "mimetype": "text/x-python",
   "name": "python",
   "nbconvert_exporter": "python",
   "pygments_lexer": "ipython3",
   "version": "3.9.7"
  },
  "orig_nbformat": 4
 },
 "nbformat": 4,
 "nbformat_minor": 2
}
