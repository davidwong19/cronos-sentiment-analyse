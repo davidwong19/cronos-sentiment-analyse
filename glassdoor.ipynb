{
 "cells": [
  {
   "cell_type": "code",
   "execution_count": 32,
   "metadata": {},
   "outputs": [],
   "source": [
    "\n",
    "from email import header\n",
    "from click import command\n",
    "import requests\n",
    "from bs4 import BeautifulSoup\n",
    "from sympy import div\n",
    "\n",
    "def extract(page):\n",
    "    headers = {'User-Agent': 'Mozilla/5.0 (Windows NT 10.0; Win64; x64) AppleWebKit/537.36 (KHTML, like Gecko) Chrome/101.0.4951.41 Safari/537.36'}\n",
    "    url = f'https://nl.glassdoor.be/Reviews/Cronos-Reviews-E871033_{page}.htm?filter.iso3Language=nld'\n",
    "    r = requests.get(url,headers=headers)\n",
    "    soup = BeautifulSoup(r.content, 'html.parser')\n",
    "    return soup\n",
    "\n",
    "def transform(soup):\n",
    "    divs = soup.find_all('div', class_ = 'gdReview')\n",
    "    for item in divs:\n",
    "        author_info = item.find('span', class_ = 'authorJobTitle').text.strip()\n",
    "        pros = item.find('p', class_ = 'mt-0 mb-0 pb v2__EIReviewDetailsV2__bodyColor v2__EIReviewDetailsV2__lineHeightLarge v2__EIReviewDetailsV2__isExpanded').text.strip()\n",
    "        cons = item.find('p', class_ = 'mt-0 mb-0 pb v2__EIReviewDetailsV2__bodyColor v2__EIReviewDetailsV2__lineHeightLarge v2__EIReviewDetailsV2__isExpanded').text.strip()\n",
    "        print(cons)\n",
    "\n",
    "c = extract('P1')\n"
   ]
  },
  {
   "cell_type": "code",
   "execution_count": 33,
   "metadata": {},
   "outputs": [],
   "source": [
    "pro = []\n",
    "con = []\n",
    "final =[]\n",
    "headers = {'User-Agent': 'Mozilla/5.0 (Windows NT 10.0; Win64; x64) AppleWebKit/537.36 (KHTML, like Gecko) Chrome/101.0.4951.41 Safari/537.36'}\n",
    "url = f'https://nl.glassdoor.be/Reviews/Cronos-Reviews-E871033.htm?filter.iso3Language=nld'\n",
    "r = requests.get(url,headers=headers)\n",
    "soup = BeautifulSoup(r.content, 'html.parser')\n",
    "oke = soup.find_all('span',{ \"data-test\" : \"cons\"})\n",
    "for ok in oke:\n",
    "     s = ok.text.strip()\n",
    "     con.append(s)\n",
    "\n",
    "\n"
   ]
  },
  {
   "cell_type": "code",
   "execution_count": 34,
   "metadata": {},
   "outputs": [],
   "source": [
    "oke = soup.find_all('span',{ \"data-test\" : \"pros\"})\n",
    "for ok in oke:\n",
    "     s = ok.text.strip()\n",
    "     pro.append(s)\n"
   ]
  },
  {
   "cell_type": "code",
   "execution_count": 35,
   "metadata": {},
   "outputs": [
    {
     "data": {
      "text/plain": [
       "'Company car, benefits, network with tons of companies/people, training opportunities, Sinterklaasfeest  Career path is very horizontal'"
      ]
     },
     "execution_count": 35,
     "metadata": {},
     "output_type": "execute_result"
    }
   ],
   "source": [
    "ok1 = len(con)\n",
    "\n",
    "a=0\n",
    "\n",
    "while a < ok1:\n",
    "      final.append(pro[a] +\"  \"+ con[a])\n",
    "      a = a+ 1\n",
    "final[0]\n"
   ]
  }
 ],
 "metadata": {
  "interpreter": {
   "hash": "2b98e5309e6e3b0bade2ed4a1aa225e8ff7275f11bed2b4c0572310c8cf94ab4"
  },
  "kernelspec": {
   "display_name": "Python 3.9.7 ('base')",
   "language": "python",
   "name": "python3"
  },
  "language_info": {
   "codemirror_mode": {
    "name": "ipython",
    "version": 3
   },
   "file_extension": ".py",
   "mimetype": "text/x-python",
   "name": "python",
   "nbconvert_exporter": "python",
   "pygments_lexer": "ipython3",
   "version": "3.9.7"
  },
  "orig_nbformat": 4
 },
 "nbformat": 4,
 "nbformat_minor": 2
}
