{
 "cells": [
  {
   "cell_type": "code",
   "execution_count": 1,
   "metadata": {},
   "outputs": [
    {
     "data": {
      "text/html": [
       "<div>\n",
       "<style scoped>\n",
       "    .dataframe tbody tr th:only-of-type {\n",
       "        vertical-align: middle;\n",
       "    }\n",
       "\n",
       "    .dataframe tbody tr th {\n",
       "        vertical-align: top;\n",
       "    }\n",
       "\n",
       "    .dataframe thead th {\n",
       "        text-align: right;\n",
       "    }\n",
       "</style>\n",
       "<table border=\"1\" class=\"dataframe\">\n",
       "  <thead>\n",
       "    <tr style=\"text-align: right;\">\n",
       "      <th></th>\n",
       "      <th>id</th>\n",
       "      <th>vader_neg</th>\n",
       "      <th>vader_neu</th>\n",
       "      <th>vader_pos</th>\n",
       "      <th>vader_compound</th>\n",
       "      <th>sentiment</th>\n",
       "      <th>roberta_neg</th>\n",
       "      <th>roberta_neu</th>\n",
       "      <th>roberta_pos</th>\n",
       "      <th>company</th>\n",
       "      <th>date</th>\n",
       "      <th>opinion</th>\n",
       "      <th>rating</th>\n",
       "      <th>source</th>\n",
       "    </tr>\n",
       "  </thead>\n",
       "  <tbody>\n",
       "    <tr>\n",
       "      <th>0</th>\n",
       "      <td>0</td>\n",
       "      <td>0.0</td>\n",
       "      <td>0.957</td>\n",
       "      <td>0.043</td>\n",
       "      <td>0.4574</td>\n",
       "      <td>positive</td>\n",
       "      <td>0.036182</td>\n",
       "      <td>0.698832</td>\n",
       "      <td>0.264986</td>\n",
       "      <td>your oxygen</td>\n",
       "      <td>14/02/2015</td>\n",
       "      <td>December 2014 ben ik bij Your Oxygen ingeschre...</td>\n",
       "      <td>4</td>\n",
       "      <td>facebook</td>\n",
       "    </tr>\n",
       "    <tr>\n",
       "      <th>1</th>\n",
       "      <td>1</td>\n",
       "      <td>0.0</td>\n",
       "      <td>0.638</td>\n",
       "      <td>0.362</td>\n",
       "      <td>0.1779</td>\n",
       "      <td>positive</td>\n",
       "      <td>0.017613</td>\n",
       "      <td>0.534629</td>\n",
       "      <td>0.447757</td>\n",
       "      <td>ARXUS INC.</td>\n",
       "      <td>29/04/2018</td>\n",
       "      <td>Custom professional IT solutions.</td>\n",
       "      <td>5</td>\n",
       "      <td>google</td>\n",
       "    </tr>\n",
       "    <tr>\n",
       "      <th>2</th>\n",
       "      <td>2</td>\n",
       "      <td>0.0</td>\n",
       "      <td>0.471</td>\n",
       "      <td>0.529</td>\n",
       "      <td>0.6696</td>\n",
       "      <td>positive</td>\n",
       "      <td>0.002808</td>\n",
       "      <td>0.045268</td>\n",
       "      <td>0.951924</td>\n",
       "      <td>ARXUS INC.</td>\n",
       "      <td>29/04/2017</td>\n",
       "      <td>Belgian cloud at its best!</td>\n",
       "      <td>5</td>\n",
       "      <td>google</td>\n",
       "    </tr>\n",
       "    <tr>\n",
       "      <th>3</th>\n",
       "      <td>3</td>\n",
       "      <td>0.0</td>\n",
       "      <td>0.643</td>\n",
       "      <td>0.357</td>\n",
       "      <td>0.6114</td>\n",
       "      <td>positive</td>\n",
       "      <td>0.004523</td>\n",
       "      <td>0.025686</td>\n",
       "      <td>0.969791</td>\n",
       "      <td>ARXUS INC.</td>\n",
       "      <td>29/04/2018</td>\n",
       "      <td>Fast growing company with motivated people. K...</td>\n",
       "      <td>5</td>\n",
       "      <td>google</td>\n",
       "    </tr>\n",
       "    <tr>\n",
       "      <th>4</th>\n",
       "      <td>4</td>\n",
       "      <td>0.0</td>\n",
       "      <td>0.000</td>\n",
       "      <td>1.000</td>\n",
       "      <td>0.2960</td>\n",
       "      <td>positive</td>\n",
       "      <td>0.080319</td>\n",
       "      <td>0.432665</td>\n",
       "      <td>0.487016</td>\n",
       "      <td>ASTENA</td>\n",
       "      <td>2021-10-29</td>\n",
       "      <td>Ok</td>\n",
       "      <td>5</td>\n",
       "      <td>google</td>\n",
       "    </tr>\n",
       "  </tbody>\n",
       "</table>\n",
       "</div>"
      ],
      "text/plain": [
       "   id  vader_neg  vader_neu  vader_pos  vader_compound sentiment  roberta_neg  \\\n",
       "0   0        0.0      0.957      0.043          0.4574  positive     0.036182   \n",
       "1   1        0.0      0.638      0.362          0.1779  positive     0.017613   \n",
       "2   2        0.0      0.471      0.529          0.6696  positive     0.002808   \n",
       "3   3        0.0      0.643      0.357          0.6114  positive     0.004523   \n",
       "4   4        0.0      0.000      1.000          0.2960  positive     0.080319   \n",
       "\n",
       "   roberta_neu  roberta_pos       company        date  \\\n",
       "0     0.698832     0.264986  your oxygen   14/02/2015   \n",
       "1     0.534629     0.447757    ARXUS INC.  29/04/2018   \n",
       "2     0.045268     0.951924    ARXUS INC.  29/04/2017   \n",
       "3     0.025686     0.969791    ARXUS INC.  29/04/2018   \n",
       "4     0.432665     0.487016        ASTENA  2021-10-29   \n",
       "\n",
       "                                             opinion  rating    source  \n",
       "0  December 2014 ben ik bij Your Oxygen ingeschre...       4  facebook  \n",
       "1                  Custom professional IT solutions.       5    google  \n",
       "2                         Belgian cloud at its best!       5    google  \n",
       "3   Fast growing company with motivated people. K...       5    google  \n",
       "4                                                 Ok       5    google  "
      ]
     },
     "execution_count": 1,
     "metadata": {},
     "output_type": "execute_result"
    }
   ],
   "source": [
    "import pandas as pd\n",
    "\n",
    "df = pd.read_csv('./sa_cronos_reviews.csv')\n",
    "df.head()"
   ]
  },
  {
   "cell_type": "code",
   "execution_count": 2,
   "metadata": {},
   "outputs": [
    {
     "name": "stdout",
     "output_type": "stream",
     "text": [
      "1.0\n"
     ]
    }
   ],
   "source": [
    "rating = df['vader_compound']\n",
    "max_value = rating.max()\n",
    "print(max_value)"
   ]
  },
  {
   "cell_type": "code",
   "execution_count": 2,
   "metadata": {},
   "outputs": [
    {
     "name": "stdout",
     "output_type": "stream",
     "text": [
      "-0.836\n"
     ]
    }
   ],
   "source": [
    "rating = df['vader_compound']\n",
    "min_value = rating.min()\n",
    "print(min_value)"
   ]
  }
 ],
 "metadata": {
  "interpreter": {
   "hash": "90f5772306232c92081e38b4c2e6a544bdaf4cd6643443f21c8aef2c10d12284"
  },
  "kernelspec": {
   "display_name": "Python 3.10.2 64-bit",
   "language": "python",
   "name": "python3"
  },
  "language_info": {
   "codemirror_mode": {
    "name": "ipython",
    "version": 3
   },
   "file_extension": ".py",
   "mimetype": "text/x-python",
   "name": "python",
   "nbconvert_exporter": "python",
   "pygments_lexer": "ipython3",
   "version": "3.10.2"
  },
  "orig_nbformat": 4
 },
 "nbformat": 4,
 "nbformat_minor": 2
}
