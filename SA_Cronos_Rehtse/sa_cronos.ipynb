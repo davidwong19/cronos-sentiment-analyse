{
 "cells": [
  {
   "cell_type": "markdown",
   "metadata": {},
   "source": [
    "# Sentiment Analysis - Cronos\n",
    "In this notebook I will be making an sentiment analysis of the Cronos Group, that we scraped from various websites. I will be using two different techniques, to compare the acurracy of both the analysis.\n",
    "\n",
    "1. VADER (Valence Aware Dictionary and sEntiment Reasoner) - Bag of Words approach\n",
    "2. Roberta Pretrained Model from 🤗\n",
    "3. Hugging Face Pipeline\n",
    "\n",
    "For more information on the used techniques:\n",
    "- [VADER](https://github.com/cjhutto/vaderSentiment)\n",
    "- [Hugging Face](https://huggingface.co/models)"
   ]
  },
  {
   "cell_type": "markdown",
   "metadata": {},
   "source": [
    "# Step 0 - Import packages and read in data"
   ]
  },
  {
   "cell_type": "code",
   "execution_count": 8,
   "metadata": {},
   "outputs": [],
   "source": [
    "import pandas as pd\n",
    "import numpy as np\n",
    "import matplotlib.pyplot as plt\n",
    "import seaborn as sns\n",
    "\n",
    "plt.style.use('ggplot')\n",
    "\n",
    "import nltk"
   ]
  },
  {
   "cell_type": "code",
   "execution_count": 15,
   "metadata": {},
   "outputs": [
    {
     "data": {
      "text/html": [
       "<div>\n",
       "<style scoped>\n",
       "    .dataframe tbody tr th:only-of-type {\n",
       "        vertical-align: middle;\n",
       "    }\n",
       "\n",
       "    .dataframe tbody tr th {\n",
       "        vertical-align: top;\n",
       "    }\n",
       "\n",
       "    .dataframe thead th {\n",
       "        text-align: right;\n",
       "    }\n",
       "</style>\n",
       "<table border=\"1\" class=\"dataframe\">\n",
       "  <thead>\n",
       "    <tr style=\"text-align: right;\">\n",
       "      <th></th>\n",
       "      <th>id</th>\n",
       "      <th>company</th>\n",
       "      <th>date</th>\n",
       "      <th>opinion</th>\n",
       "      <th>rating</th>\n",
       "      <th>source</th>\n",
       "    </tr>\n",
       "  </thead>\n",
       "  <tbody>\n",
       "    <tr>\n",
       "      <th>0</th>\n",
       "      <td>0</td>\n",
       "      <td>your oxygen</td>\n",
       "      <td>14/02/2015</td>\n",
       "      <td>December 2014 ben ik bij Your Oxygen ingeschre...</td>\n",
       "      <td>4.0</td>\n",
       "      <td>facebook</td>\n",
       "    </tr>\n",
       "    <tr>\n",
       "      <th>1</th>\n",
       "      <td>1</td>\n",
       "      <td>ARXUS INC.</td>\n",
       "      <td>29/04/2018</td>\n",
       "      <td>Custom professional IT solutions.</td>\n",
       "      <td>5.0</td>\n",
       "      <td>google</td>\n",
       "    </tr>\n",
       "    <tr>\n",
       "      <th>2</th>\n",
       "      <td>2</td>\n",
       "      <td>ARXUS INC.</td>\n",
       "      <td>29/04/2017</td>\n",
       "      <td>Belgian cloud at its best!</td>\n",
       "      <td>5.0</td>\n",
       "      <td>google</td>\n",
       "    </tr>\n",
       "    <tr>\n",
       "      <th>3</th>\n",
       "      <td>3</td>\n",
       "      <td>ARXUS INC.</td>\n",
       "      <td>29/04/2018</td>\n",
       "      <td>Fast growing company with motivated people. K...</td>\n",
       "      <td>5.0</td>\n",
       "      <td>google</td>\n",
       "    </tr>\n",
       "    <tr>\n",
       "      <th>4</th>\n",
       "      <td>4</td>\n",
       "      <td>ASTENA</td>\n",
       "      <td>2021-10-29</td>\n",
       "      <td>Ok</td>\n",
       "      <td>5.0</td>\n",
       "      <td>google</td>\n",
       "    </tr>\n",
       "  </tbody>\n",
       "</table>\n",
       "</div>"
      ],
      "text/plain": [
       "   id       company        date  \\\n",
       "0   0  your oxygen   14/02/2015   \n",
       "1   1    ARXUS INC.  29/04/2018   \n",
       "2   2    ARXUS INC.  29/04/2017   \n",
       "3   3    ARXUS INC.  29/04/2018   \n",
       "4   4        ASTENA  2021-10-29   \n",
       "\n",
       "                                             opinion  rating    source  \n",
       "0  December 2014 ben ik bij Your Oxygen ingeschre...     4.0  facebook  \n",
       "1                  Custom professional IT solutions.     5.0    google  \n",
       "2                         Belgian cloud at its best!     5.0    google  \n",
       "3   Fast growing company with motivated people. K...     5.0    google  \n",
       "4                                                 Ok     5.0    google  "
      ]
     },
     "execution_count": 15,
     "metadata": {},
     "output_type": "execute_result"
    }
   ],
   "source": [
    "df = pd.read_csv('./cronos_reviews.csv')\n",
    "df.head(5)"
   ]
  },
  {
   "cell_type": "code",
   "execution_count": null,
   "metadata": {},
   "outputs": [],
   "source": [
    "df['opinion']"
   ]
  }
 ],
 "metadata": {
  "interpreter": {
   "hash": "90f5772306232c92081e38b4c2e6a544bdaf4cd6643443f21c8aef2c10d12284"
  },
  "kernelspec": {
   "display_name": "Python 3.10.2 64-bit",
   "language": "python",
   "name": "python3"
  },
  "language_info": {
   "codemirror_mode": {
    "name": "ipython",
    "version": 3
   },
   "file_extension": ".py",
   "mimetype": "text/x-python",
   "name": "python",
   "nbconvert_exporter": "python",
   "pygments_lexer": "ipython3",
   "version": "3.10.2"
  },
  "orig_nbformat": 4
 },
 "nbformat": 4,
 "nbformat_minor": 2
}
