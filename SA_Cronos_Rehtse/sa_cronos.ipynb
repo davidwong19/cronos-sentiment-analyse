{
 "cells": [
  {
   "cell_type": "markdown",
   "metadata": {},
   "source": [
    "# Sentiment Analysis - Cronos\n",
    "In this notebook I will be making an sentiment analysis of the Cronos Group, that we scraped from various websites. I will be using two different techniques, to compare the acurracy of both the analysis.\n",
    "\n",
    "1. VADER (Valence Aware Dictionary and sEntiment Reasoner) - Bag of Words approach\n",
    "2. Roberta Pretrained Model from 🤗\n",
    "3. Hugging Face Pipeline\n",
    "\n",
    "For more information on the used techniques:\n",
    "- [VADER](https://github.com/cjhutto/vaderSentiment)\n",
    "- [Hugging Face](https://huggingface.co/models)"
   ]
  },
  {
   "cell_type": "markdown",
   "metadata": {},
   "source": [
    "## Step 0 - Import packages, read in data & NLTK basics"
   ]
  },
  {
   "cell_type": "code",
   "execution_count": 1,
   "metadata": {},
   "outputs": [
    {
     "name": "stderr",
     "output_type": "stream",
     "text": [
      "c:\\Users\\Rehtse Put\\AppData\\Local\\Programs\\Python\\Python310\\lib\\site-packages\\seaborn\\rcmod.py:4: DeprecationWarning: The distutils package is deprecated and slated for removal in Python 3.12. Use setuptools or check PEP 632 for potential alternatives\n",
      "  from distutils.version import LooseVersion\n"
     ]
    }
   ],
   "source": [
    "import pandas as pd\n",
    "import numpy as np\n",
    "import matplotlib.pyplot as plt\n",
    "import seaborn as sns\n",
    "\n",
    "plt.style.use('ggplot')\n",
    "\n",
    "import nltk"
   ]
  },
  {
   "cell_type": "markdown",
   "metadata": {},
   "source": [
    "Reading in the data and getting the first 5 rows"
   ]
  },
  {
   "cell_type": "code",
   "execution_count": 2,
   "metadata": {},
   "outputs": [
    {
     "data": {
      "text/html": [
       "<div>\n",
       "<style scoped>\n",
       "    .dataframe tbody tr th:only-of-type {\n",
       "        vertical-align: middle;\n",
       "    }\n",
       "\n",
       "    .dataframe tbody tr th {\n",
       "        vertical-align: top;\n",
       "    }\n",
       "\n",
       "    .dataframe thead th {\n",
       "        text-align: right;\n",
       "    }\n",
       "</style>\n",
       "<table border=\"1\" class=\"dataframe\">\n",
       "  <thead>\n",
       "    <tr style=\"text-align: right;\">\n",
       "      <th></th>\n",
       "      <th>id</th>\n",
       "      <th>company</th>\n",
       "      <th>date</th>\n",
       "      <th>opinion</th>\n",
       "      <th>rating</th>\n",
       "      <th>source</th>\n",
       "    </tr>\n",
       "  </thead>\n",
       "  <tbody>\n",
       "    <tr>\n",
       "      <th>94</th>\n",
       "      <td>94</td>\n",
       "      <td>HeadCount</td>\n",
       "      <td>06/10/2020</td>\n",
       "      <td>It's a multi-tasking job and there was a lot o...</td>\n",
       "      <td>5.0</td>\n",
       "      <td>glassdoor</td>\n",
       "    </tr>\n",
       "    <tr>\n",
       "      <th>145</th>\n",
       "      <td>145</td>\n",
       "      <td>The Campus NV</td>\n",
       "      <td>3/8/2021</td>\n",
       "      <td>The technical coaching training was refreshing...</td>\n",
       "      <td>5.0</td>\n",
       "      <td>google</td>\n",
       "    </tr>\n",
       "    <tr>\n",
       "      <th>98</th>\n",
       "      <td>98</td>\n",
       "      <td>Infront</td>\n",
       "      <td>22/02/2019</td>\n",
       "      <td>Jonge organisatie met veel werk,Work hard,Play...</td>\n",
       "      <td>4.0</td>\n",
       "      <td>indeed</td>\n",
       "    </tr>\n",
       "    <tr>\n",
       "      <th>190</th>\n",
       "      <td>190</td>\n",
       "      <td>cronos</td>\n",
       "      <td>25/03/2022</td>\n",
       "      <td>Group benefits\\r\\nLots of freedom\\r\\nHorizonta...</td>\n",
       "      <td>5.0</td>\n",
       "      <td>glassdoor</td>\n",
       "    </tr>\n",
       "    <tr>\n",
       "      <th>230</th>\n",
       "      <td>230</td>\n",
       "      <td>cronos</td>\n",
       "      <td>03/09/2021</td>\n",
       "      <td>Flexible, good work-life balance, professional...</td>\n",
       "      <td>4.0</td>\n",
       "      <td>glassdoor</td>\n",
       "    </tr>\n",
       "  </tbody>\n",
       "</table>\n",
       "</div>"
      ],
      "text/plain": [
       "      id        company        date  \\\n",
       "94    94      HeadCount  06/10/2020   \n",
       "145  145  The Campus NV    3/8/2021   \n",
       "98    98        Infront  22/02/2019   \n",
       "190  190         cronos  25/03/2022   \n",
       "230  230         cronos  03/09/2021   \n",
       "\n",
       "                                               opinion  rating     source  \n",
       "94   It's a multi-tasking job and there was a lot o...     5.0  glassdoor  \n",
       "145  The technical coaching training was refreshing...     5.0     google  \n",
       "98   Jonge organisatie met veel werk,Work hard,Play...     4.0     indeed  \n",
       "190  Group benefits\\r\\nLots of freedom\\r\\nHorizonta...     5.0  glassdoor  \n",
       "230  Flexible, good work-life balance, professional...     4.0  glassdoor  "
      ]
     },
     "execution_count": 2,
     "metadata": {},
     "output_type": "execute_result"
    }
   ],
   "source": [
    "df = pd.read_csv('./dataset/cronos_reviews.csv')\n",
    "df.sample(5)"
   ]
  },
  {
   "cell_type": "markdown",
   "metadata": {},
   "source": [
    "Checking if there are any NaN values"
   ]
  },
  {
   "cell_type": "code",
   "execution_count": 3,
   "metadata": {},
   "outputs": [
    {
     "data": {
      "text/plain": [
       "id         0\n",
       "company    0\n",
       "date       0\n",
       "opinion    0\n",
       "rating     0\n",
       "source     0\n",
       "dtype: int64"
      ]
     },
     "execution_count": 3,
     "metadata": {},
     "output_type": "execute_result"
    }
   ],
   "source": [
    "df.isna().sum()"
   ]
  },
  {
   "cell_type": "markdown",
   "metadata": {},
   "source": [
    "Checking the type of the variables"
   ]
  },
  {
   "cell_type": "code",
   "execution_count": 4,
   "metadata": {},
   "outputs": [
    {
     "data": {
      "text/plain": [
       "id           int64\n",
       "company     object\n",
       "date        object\n",
       "opinion     object\n",
       "rating     float64\n",
       "source      object\n",
       "dtype: object"
      ]
     },
     "execution_count": 4,
     "metadata": {},
     "output_type": "execute_result"
    }
   ],
   "source": [
    "df.dtypes"
   ]
  },
  {
   "cell_type": "markdown",
   "metadata": {},
   "source": [
    "Converting rating to int"
   ]
  },
  {
   "cell_type": "code",
   "execution_count": 5,
   "metadata": {},
   "outputs": [],
   "source": [
    "df['rating'] = df['rating'].astype(int)"
   ]
  },
  {
   "cell_type": "code",
   "execution_count": 6,
   "metadata": {},
   "outputs": [
    {
     "data": {
      "text/plain": [
       "id          int64\n",
       "company    object\n",
       "date       object\n",
       "opinion    object\n",
       "rating      int32\n",
       "source     object\n",
       "dtype: object"
      ]
     },
     "execution_count": 6,
     "metadata": {},
     "output_type": "execute_result"
    }
   ],
   "source": [
    "df.dtypes"
   ]
  },
  {
   "cell_type": "markdown",
   "metadata": {},
   "source": [
    "Checking the first opinion"
   ]
  },
  {
   "cell_type": "code",
   "execution_count": 7,
   "metadata": {},
   "outputs": [
    {
     "data": {
      "text/plain": [
       "'December 2014 ben ik bij Your Oxygen ingeschreven, ze hadden me gecontacteerd ivm een werknemer van mij voor referenties....aangezien ik toen supervisor was bij Van Moer group. Na jaren dienst was ik toe aan een nieuwe boost en uitdaging in mijn loopbaan! Met dank aan Your Oxygen ben ik nu polyvalent medewerker bij Cogal Belgium Nv(gassector-chemie) met een direct vast bediendencontract en tal van extra legale voordelen'"
      ]
     },
     "execution_count": 7,
     "metadata": {},
     "output_type": "execute_result"
    }
   ],
   "source": [
    "df['opinion'].values[0]"
   ]
  },
  {
   "cell_type": "markdown",
   "metadata": {},
   "source": [
    "Looking at the shape of our dataset"
   ]
  },
  {
   "cell_type": "code",
   "execution_count": 8,
   "metadata": {},
   "outputs": [
    {
     "name": "stdout",
     "output_type": "stream",
     "text": [
      "(380, 6)\n"
     ]
    }
   ],
   "source": [
    "print(df.shape)\n"
   ]
  },
  {
   "cell_type": "markdown",
   "metadata": {},
   "source": [
    "### Quick EDA\n",
    "\n",
    "Here I'm plotting the count of the reviews by stars"
   ]
  },
  {
   "cell_type": "code",
   "execution_count": 9,
   "metadata": {},
   "outputs": [
    {
     "data": {
      "text/plain": [
       "<function matplotlib.pyplot.show(close=None, block=None)>"
      ]
     },
     "execution_count": 9,
     "metadata": {},
     "output_type": "execute_result"
    },
    {
     "data": {
      "image/png": "[encoded data removed]",
      "text/plain": [
       "<Figure size 720x360 with 1 Axes>"
      ]
     },
     "metadata": {},
     "output_type": "display_data"
    }
   ],
   "source": [
    "ax = df['rating'].value_counts().sort_index() \\\n",
    "    .plot(kind='bar', \n",
    "          title='Count of Reviews by Stars', \n",
    "          figsize=(10,5))\n",
    "ax.set_xlabel('Review Stars')\n",
    "plt.show"
   ]
  },
  {
   "cell_type": "markdown",
   "metadata": {},
   "source": [
    "We can see that the rating is most of the reviews are 4 or 5 star rating. So it's very biased towards positive reviews."
   ]
  },
  {
   "cell_type": "markdown",
   "metadata": {},
   "source": [
    "### Basic NLTK\n",
    "\n",
    "Here I am going to do some basic NLTK, firstly I will do it on 1 example of our dataset"
   ]
  },
  {
   "cell_type": "code",
   "execution_count": 10,
   "metadata": {},
   "outputs": [
    {
     "name": "stdout",
     "output_type": "stream",
     "text": [
      "Smooth collaboration procedures, minimum interaction, pays on time, helpful., No other interesting clients apart from European institutions\n"
     ]
    }
   ],
   "source": [
    "\n",
    "example = df['opinion'][50]\n",
    "print(example)"
   ]
  },
  {
   "cell_type": "markdown",
   "metadata": {},
   "source": [
    "Here I will tokenize the opinion of our example. <br> \n",
    "It will just format the opinion so the computer can interpret it. <br>\n",
    "Basically it just splits the sentence into parts of each word."
   ]
  },
  {
   "cell_type": "code",
   "execution_count": 11,
   "metadata": {},
   "outputs": [
    {
     "data": {
      "text/plain": [
       "['Smooth',\n",
       " 'collaboration',\n",
       " 'procedures',\n",
       " ',',\n",
       " 'minimum',\n",
       " 'interaction',\n",
       " ',',\n",
       " 'pays',\n",
       " 'on',\n",
       " 'time']"
      ]
     },
     "execution_count": 11,
     "metadata": {},
     "output_type": "execute_result"
    }
   ],
   "source": [
    "tokens = nltk.word_tokenize(example)\n",
    "tokens[:10] # shows first 10 tokens"
   ]
  },
  {
   "cell_type": "markdown",
   "metadata": {},
   "source": [
    "Part of speech tagging for each token and putting them into entities <br>\n",
    "More info: [POS Tagging & Chunking](https://www.guru99.com/pos-tagging-chunking-nltk.html)"
   ]
  },
  {
   "cell_type": "code",
   "execution_count": 12,
   "metadata": {},
   "outputs": [
    {
     "data": {
      "text/plain": [
       "[('Smooth', 'NNP'),\n",
       " ('collaboration', 'NN'),\n",
       " ('procedures', 'NNS'),\n",
       " (',', ','),\n",
       " ('minimum', 'JJ'),\n",
       " ('interaction', 'NN'),\n",
       " (',', ','),\n",
       " ('pays', 'VBZ'),\n",
       " ('on', 'IN'),\n",
       " ('time', 'NN')]"
      ]
     },
     "execution_count": 12,
     "metadata": {},
     "output_type": "execute_result"
    }
   ],
   "source": [
    "tagged = nltk.pos_tag(tokens)\n",
    "tagged[:10]"
   ]
  },
  {
   "cell_type": "code",
   "execution_count": 13,
   "metadata": {},
   "outputs": [
    {
     "name": "stdout",
     "output_type": "stream",
     "text": [
      "(S\n",
      "  (GPE Smooth/NNP)\n",
      "  collaboration/NN\n",
      "  procedures/NNS\n",
      "  ,/,\n",
      "  minimum/JJ\n",
      "  interaction/NN\n",
      "  ,/,\n",
      "  pays/VBZ\n",
      "  on/IN\n",
      "  time/NN\n",
      "  ,/,\n",
      "  helpful./NN\n",
      "  ,/,\n",
      "  (ORGANIZATION No/NNP)\n",
      "  other/JJ\n",
      "  interesting/JJ\n",
      "  clients/NNS\n",
      "  apart/RB\n",
      "  from/IN\n",
      "  (GPE European/JJ)\n",
      "  institutions/NNS)\n"
     ]
    }
   ],
   "source": [
    "entities = nltk.chunk.ne_chunk(tagged)\n",
    "entities.pprint()"
   ]
  },
  {
   "cell_type": "markdown",
   "metadata": {},
   "source": [
    "## Step 1 - VADER Sentiment Scoring\n",
    "I used NLTK's `SentimentIntensityAnalyzer` to get the neg/neu/pos scores of the opinion\n",
    "\n",
    "- VADER uses a \"Bag of Words\" approach:\n",
    "  - A text (such as a sentence or a document) is represented as the bag (multiset) of its words, disregarding grammar and even word order but keeping multiplicity.\n",
    "  - Stop words are removed\n",
    "  - Each word is scored and combined to a total score"
   ]
  },
  {
   "cell_type": "markdown",
   "metadata": {},
   "source": [
    "Installing the necessary packages for the VADER Sentiment Analysis"
   ]
  },
  {
   "cell_type": "code",
   "execution_count": 14,
   "metadata": {},
   "outputs": [],
   "source": [
    "from nltk.sentiment import SentimentIntensityAnalyzer\n",
    "from tqdm.notebook import tqdm # Progress bar\n",
    "\n",
    "sia = SentimentIntensityAnalyzer()"
   ]
  },
  {
   "cell_type": "markdown",
   "metadata": {},
   "source": [
    "Using some test strings to see how it performs"
   ]
  },
  {
   "cell_type": "code",
   "execution_count": 15,
   "metadata": {},
   "outputs": [
    {
     "data": {
      "text/plain": [
       "{'neg': 0.0, 'neu': 0.318, 'pos': 0.682, 'compound': 0.6468}"
      ]
     },
     "execution_count": 15,
     "metadata": {},
     "output_type": "execute_result"
    }
   ],
   "source": [
    "sia.polarity_scores('I am so happy!')"
   ]
  },
  {
   "cell_type": "markdown",
   "metadata": {},
   "source": [
    "We can see that it analyses the text to be mostly positive. So it did a great job. <br>\n",
    "Compound is the sum of positive, negative & neutral scores which is then normalized between -1(most extreme negative) and +1 (most extreme positive)"
   ]
  },
  {
   "cell_type": "code",
   "execution_count": 16,
   "metadata": {},
   "outputs": [
    {
     "data": {
      "text/plain": [
       "{'neg': 0.468, 'neu': 0.532, 'pos': 0.0, 'compound': -0.6588}"
      ]
     },
     "execution_count": 16,
     "metadata": {},
     "output_type": "execute_result"
    }
   ],
   "source": [
    "sia.polarity_scores('This is the worst thing ever!')"
   ]
  },
  {
   "cell_type": "markdown",
   "metadata": {},
   "source": [
    "Here the text is mostly negative and neutral and the compound is -0.6588. So it is more negative than positive. <br> \n",
    "Which is great because it seems to be working\n",
    "\n",
    "Now we are going to run the polarity score on our example"
   ]
  },
  {
   "cell_type": "code",
   "execution_count": 17,
   "metadata": {},
   "outputs": [
    {
     "data": {
      "text/plain": [
       "{'neg': 0.111, 'neu': 0.754, 'pos': 0.136, 'compound': 0.128}"
      ]
     },
     "execution_count": 17,
     "metadata": {},
     "output_type": "execute_result"
    }
   ],
   "source": [
    "sia.polarity_scores(example)"
   ]
  },
  {
   "cell_type": "markdown",
   "metadata": {},
   "source": [
    "### Running the polarity score on our entire dataset"
   ]
  },
  {
   "cell_type": "code",
   "execution_count": 18,
   "metadata": {},
   "outputs": [
    {
     "data": {
      "text/html": [
       "<div>\n",
       "<style scoped>\n",
       "    .dataframe tbody tr th:only-of-type {\n",
       "        vertical-align: middle;\n",
       "    }\n",
       "\n",
       "    .dataframe tbody tr th {\n",
       "        vertical-align: top;\n",
       "    }\n",
       "\n",
       "    .dataframe thead th {\n",
       "        text-align: right;\n",
       "    }\n",
       "</style>\n",
       "<table border=\"1\" class=\"dataframe\">\n",
       "  <thead>\n",
       "    <tr style=\"text-align: right;\">\n",
       "      <th></th>\n",
       "      <th>id</th>\n",
       "      <th>company</th>\n",
       "      <th>date</th>\n",
       "      <th>opinion</th>\n",
       "      <th>rating</th>\n",
       "      <th>source</th>\n",
       "    </tr>\n",
       "  </thead>\n",
       "  <tbody>\n",
       "    <tr>\n",
       "      <th>0</th>\n",
       "      <td>0</td>\n",
       "      <td>your oxygen</td>\n",
       "      <td>14/02/2015</td>\n",
       "      <td>December 2014 ben ik bij Your Oxygen ingeschre...</td>\n",
       "      <td>4</td>\n",
       "      <td>facebook</td>\n",
       "    </tr>\n",
       "    <tr>\n",
       "      <th>1</th>\n",
       "      <td>1</td>\n",
       "      <td>ARXUS INC.</td>\n",
       "      <td>29/04/2018</td>\n",
       "      <td>Custom professional IT solutions.</td>\n",
       "      <td>5</td>\n",
       "      <td>google</td>\n",
       "    </tr>\n",
       "    <tr>\n",
       "      <th>2</th>\n",
       "      <td>2</td>\n",
       "      <td>ARXUS INC.</td>\n",
       "      <td>29/04/2017</td>\n",
       "      <td>Belgian cloud at its best!</td>\n",
       "      <td>5</td>\n",
       "      <td>google</td>\n",
       "    </tr>\n",
       "    <tr>\n",
       "      <th>3</th>\n",
       "      <td>3</td>\n",
       "      <td>ARXUS INC.</td>\n",
       "      <td>29/04/2018</td>\n",
       "      <td>Fast growing company with motivated people. K...</td>\n",
       "      <td>5</td>\n",
       "      <td>google</td>\n",
       "    </tr>\n",
       "    <tr>\n",
       "      <th>4</th>\n",
       "      <td>4</td>\n",
       "      <td>ASTENA</td>\n",
       "      <td>2021-10-29</td>\n",
       "      <td>Ok</td>\n",
       "      <td>5</td>\n",
       "      <td>google</td>\n",
       "    </tr>\n",
       "  </tbody>\n",
       "</table>\n",
       "</div>"
      ],
      "text/plain": [
       "   id       company        date  \\\n",
       "0   0  your oxygen   14/02/2015   \n",
       "1   1    ARXUS INC.  29/04/2018   \n",
       "2   2    ARXUS INC.  29/04/2017   \n",
       "3   3    ARXUS INC.  29/04/2018   \n",
       "4   4        ASTENA  2021-10-29   \n",
       "\n",
       "                                             opinion  rating    source  \n",
       "0  December 2014 ben ik bij Your Oxygen ingeschre...       4  facebook  \n",
       "1                  Custom professional IT solutions.       5    google  \n",
       "2                         Belgian cloud at its best!       5    google  \n",
       "3   Fast growing company with motivated people. K...       5    google  \n",
       "4                                                 Ok       5    google  "
      ]
     },
     "execution_count": 18,
     "metadata": {},
     "output_type": "execute_result"
    }
   ],
   "source": [
    "df.head()"
   ]
  },
  {
   "cell_type": "markdown",
   "metadata": {},
   "source": [
    "Applying the polarity score to each opinion in our dataset. <br>\n",
    "Then storing the scores in a dictionary"
   ]
  },
  {
   "cell_type": "code",
   "execution_count": 19,
   "metadata": {},
   "outputs": [
    {
     "data": {
      "application/vnd.jupyter.widget-view+json": {
       "model_id": "b0e79317832845129d0a4c813b3602cf",
       "version_major": 2,
       "version_minor": 0
      },
      "text/plain": [
       "  0%|          | 0/380 [00:00<?, ?it/s]"
      ]
     },
     "metadata": {},
     "output_type": "display_data"
    }
   ],
   "source": [
    "results = {}\n",
    "for i, row in tqdm(df.iterrows(), total=len(df)):\n",
    "    text = row['opinion']\n",
    "    my_id = row['id']\n",
    "    results[my_id] = sia.polarity_scores(text)"
   ]
  },
  {
   "cell_type": "markdown",
   "metadata": {},
   "source": [
    "Flipping the vaders score, so we can merge it to our existing dataframe"
   ]
  },
  {
   "cell_type": "code",
   "execution_count": 20,
   "metadata": {},
   "outputs": [],
   "source": [
    "vaders = pd.DataFrame(results).T # flipping the dataset\n",
    "vaders = vaders.reset_index().rename(columns={'index': 'id'})\n",
    "vaders = vaders.merge(df, how='left')"
   ]
  },
  {
   "cell_type": "code",
   "execution_count": 21,
   "metadata": {},
   "outputs": [
    {
     "data": {
      "text/html": [
       "<div>\n",
       "<style scoped>\n",
       "    .dataframe tbody tr th:only-of-type {\n",
       "        vertical-align: middle;\n",
       "    }\n",
       "\n",
       "    .dataframe tbody tr th {\n",
       "        vertical-align: top;\n",
       "    }\n",
       "\n",
       "    .dataframe thead th {\n",
       "        text-align: right;\n",
       "    }\n",
       "</style>\n",
       "<table border=\"1\" class=\"dataframe\">\n",
       "  <thead>\n",
       "    <tr style=\"text-align: right;\">\n",
       "      <th></th>\n",
       "      <th>id</th>\n",
       "      <th>neg</th>\n",
       "      <th>neu</th>\n",
       "      <th>pos</th>\n",
       "      <th>compound</th>\n",
       "      <th>company</th>\n",
       "      <th>date</th>\n",
       "      <th>opinion</th>\n",
       "      <th>rating</th>\n",
       "      <th>source</th>\n",
       "    </tr>\n",
       "  </thead>\n",
       "  <tbody>\n",
       "    <tr>\n",
       "      <th>0</th>\n",
       "      <td>0</td>\n",
       "      <td>0.0</td>\n",
       "      <td>0.957</td>\n",
       "      <td>0.043</td>\n",
       "      <td>0.4574</td>\n",
       "      <td>your oxygen</td>\n",
       "      <td>14/02/2015</td>\n",
       "      <td>December 2014 ben ik bij Your Oxygen ingeschre...</td>\n",
       "      <td>4</td>\n",
       "      <td>facebook</td>\n",
       "    </tr>\n",
       "    <tr>\n",
       "      <th>1</th>\n",
       "      <td>1</td>\n",
       "      <td>0.0</td>\n",
       "      <td>0.638</td>\n",
       "      <td>0.362</td>\n",
       "      <td>0.1779</td>\n",
       "      <td>ARXUS INC.</td>\n",
       "      <td>29/04/2018</td>\n",
       "      <td>Custom professional IT solutions.</td>\n",
       "      <td>5</td>\n",
       "      <td>google</td>\n",
       "    </tr>\n",
       "    <tr>\n",
       "      <th>2</th>\n",
       "      <td>2</td>\n",
       "      <td>0.0</td>\n",
       "      <td>0.471</td>\n",
       "      <td>0.529</td>\n",
       "      <td>0.6696</td>\n",
       "      <td>ARXUS INC.</td>\n",
       "      <td>29/04/2017</td>\n",
       "      <td>Belgian cloud at its best!</td>\n",
       "      <td>5</td>\n",
       "      <td>google</td>\n",
       "    </tr>\n",
       "    <tr>\n",
       "      <th>3</th>\n",
       "      <td>3</td>\n",
       "      <td>0.0</td>\n",
       "      <td>0.643</td>\n",
       "      <td>0.357</td>\n",
       "      <td>0.6114</td>\n",
       "      <td>ARXUS INC.</td>\n",
       "      <td>29/04/2018</td>\n",
       "      <td>Fast growing company with motivated people. K...</td>\n",
       "      <td>5</td>\n",
       "      <td>google</td>\n",
       "    </tr>\n",
       "    <tr>\n",
       "      <th>4</th>\n",
       "      <td>4</td>\n",
       "      <td>0.0</td>\n",
       "      <td>0.000</td>\n",
       "      <td>1.000</td>\n",
       "      <td>0.2960</td>\n",
       "      <td>ASTENA</td>\n",
       "      <td>2021-10-29</td>\n",
       "      <td>Ok</td>\n",
       "      <td>5</td>\n",
       "      <td>google</td>\n",
       "    </tr>\n",
       "  </tbody>\n",
       "</table>\n",
       "</div>"
      ],
      "text/plain": [
       "   id  neg    neu    pos  compound       company        date  \\\n",
       "0   0  0.0  0.957  0.043    0.4574  your oxygen   14/02/2015   \n",
       "1   1  0.0  0.638  0.362    0.1779    ARXUS INC.  29/04/2018   \n",
       "2   2  0.0  0.471  0.529    0.6696    ARXUS INC.  29/04/2017   \n",
       "3   3  0.0  0.643  0.357    0.6114    ARXUS INC.  29/04/2018   \n",
       "4   4  0.0  0.000  1.000    0.2960        ASTENA  2021-10-29   \n",
       "\n",
       "                                             opinion  rating    source  \n",
       "0  December 2014 ben ik bij Your Oxygen ingeschre...       4  facebook  \n",
       "1                  Custom professional IT solutions.       5    google  \n",
       "2                         Belgian cloud at its best!       5    google  \n",
       "3   Fast growing company with motivated people. K...       5    google  \n",
       "4                                                 Ok       5    google  "
      ]
     },
     "execution_count": 21,
     "metadata": {},
     "output_type": "execute_result"
    }
   ],
   "source": [
    "vaders.head()"
   ]
  },
  {
   "cell_type": "markdown",
   "metadata": {},
   "source": [
    "Now we have the sentiment score and metadata added to our dataset"
   ]
  },
  {
   "cell_type": "markdown",
   "metadata": {},
   "source": [
    "### Plotting VADER results"
   ]
  },
  {
   "cell_type": "code",
   "execution_count": 22,
   "metadata": {},
   "outputs": [
    {
     "data": {
      "image/png": "[encoded data removed]",
      "text/plain": [
       "<Figure size 432x288 with 1 Axes>"
      ]
     },
     "metadata": {},
     "output_type": "display_data"
    }
   ],
   "source": [
    "sns.barplot(data=vaders, x='rating', y='compound')\n",
    "ax.set_title('Compound score by Rating')\n",
    "plt.show()"
   ]
  },
  {
   "cell_type": "markdown",
   "metadata": {},
   "source": [
    "A 1 star review on our dataset has a lower compound score and a 5 star review has a higher compound score. Which is what we expected. The more positive the rating the more positive the compound score."
   ]
  },
  {
   "cell_type": "code",
   "execution_count": 23,
   "metadata": {},
   "outputs": [
    {
     "data": {
      "image/png": "[encoded data removed]",
      "text/plain": [
       "<Figure size 1080x360 with 3 Axes>"
      ]
     },
     "metadata": {},
     "output_type": "display_data"
    }
   ],
   "source": [
    "fig, axs = plt.subplots(1, 3, figsize=(15,5))\n",
    "sns.barplot(data=vaders, x='rating', y='pos', ax=axs[0])\n",
    "sns.barplot(data=vaders, x='rating', y='neu', ax=axs[1])\n",
    "sns.barplot(data=vaders, x='rating', y='neg', ax=axs[2])\n",
    "axs[0].set_title('Positive')\n",
    "axs[1].set_title('Neutral')\n",
    "axs[2].set_title('Negative')\n",
    "plt.tight_layout\n",
    "plt.show()"
   ]
  },
  {
   "cell_type": "markdown",
   "metadata": {},
   "source": [
    "1. The positivity of the opinion gets higher, when the rating gets higher\n",
    "2. Neutral is mostly flat \n",
    "3. Negativity goes down, the opinion gets lower when the rating gets lower\n",
    "\n",
    "This is all as expected. It's great to see this, because VADER in proving to see the relation between the sentiment score and the rating the users gave."
   ]
  },
  {
   "cell_type": "markdown",
   "metadata": {},
   "source": [
    "## Step 2 - Roberta Pretrained Model - Transformer model\n",
    "The VADER MODEL will not look at the context of the sentences, it will just look at the individual words. <br>\n",
    "\n",
    "- It will use a model trained of a large corpus of data (a collection of linguistic data (usually contained in a computer database) used for research, scholarship, and teaching)\n",
    "- Transformer model will account for the words but also the contect related to the other words\n"
   ]
  },
  {
   "cell_type": "code",
   "execution_count": 24,
   "metadata": {},
   "outputs": [],
   "source": [
    "from transformers import AutoTokenizer\n",
    "from transformers import AutoModelForSequenceClassification\n",
    "from scipy.special import softmax"
   ]
  },
  {
   "cell_type": "markdown",
   "metadata": {},
   "source": [
    "This is a roBERTa-base model trained on ~124M tweets from January 2018 to December 2021 (see here), and finetuned for sentiment analysis with the TweetEval benchmark. <br>\n",
    "It's essentialy transfer learning, so we won't have to retrain the model. We can just use these trained weights for our dataset. <br>\n",
    "The first time downloading the model, it will take some time. Because it needs to download all of the weights\n",
    "More info: [Roberta Base for Sentiment Analysis](https://huggingface.co/cardiffnlp/twitter-roberta-base-sentiment-latest)"
   ]
  },
  {
   "cell_type": "code",
   "execution_count": 25,
   "metadata": {},
   "outputs": [
    {
     "name": "stderr",
     "output_type": "stream",
     "text": [
      "Some weights of the model checkpoint at cardiffnlp/twitter-roberta-base-sentiment-latest were not used when initializing RobertaForSequenceClassification: ['roberta.pooler.dense.bias', 'roberta.pooler.dense.weight']\n",
      "- This IS expected if you are initializing RobertaForSequenceClassification from the checkpoint of a model trained on another task or with another architecture (e.g. initializing a BertForSequenceClassification model from a BertForPreTraining model).\n",
      "- This IS NOT expected if you are initializing RobertaForSequenceClassification from the checkpoint of a model that you expect to be exactly identical (initializing a BertForSequenceClassification model from a BertForSequenceClassification model).\n"
     ]
    }
   ],
   "source": [
    "MODEL = f\"cardiffnlp/twitter-roberta-base-sentiment-latest\"\n",
    "tokenizer = AutoTokenizer.from_pretrained(MODEL)\n",
    "model = AutoModelForSequenceClassification.from_pretrained(MODEL)"
   ]
  },
  {
   "cell_type": "markdown",
   "metadata": {},
   "source": [
    "**VADER results on example**"
   ]
  },
  {
   "cell_type": "code",
   "execution_count": 26,
   "metadata": {},
   "outputs": [
    {
     "name": "stdout",
     "output_type": "stream",
     "text": [
      "Smooth collaboration procedures, minimum interaction, pays on time, helpful., No other interesting clients apart from European institutions\n"
     ]
    },
    {
     "data": {
      "text/plain": [
       "{'neg': 0.111, 'neu': 0.754, 'pos': 0.136, 'compound': 0.128}"
      ]
     },
     "execution_count": 26,
     "metadata": {},
     "output_type": "execute_result"
    }
   ],
   "source": [
    "print(example)\n",
    "sia.polarity_scores(example)"
   ]
  },
  {
   "cell_type": "markdown",
   "metadata": {},
   "source": [
    "### Run the Roberta Model\n",
    "\n",
    "It's the same step as in our VADER Model. <br>\n",
    "Tokenize the opinion of our example. <br> \n",
    "It will just format the opinion so the computer can interpret it.\n",
    "\n",
    "We will first apply it to our example, and storing these scores in a dictionary"
   ]
  },
  {
   "cell_type": "code",
   "execution_count": 27,
   "metadata": {},
   "outputs": [
    {
     "name": "stdout",
     "output_type": "stream",
     "text": [
      "{'roberta_neg': 0.020294737, 'roberta_neu': 0.18204387, 'roberta_pos': 0.7976614}\n"
     ]
    }
   ],
   "source": [
    "encoded_text = tokenizer(example, return_tensors='pt')\n",
    "output = model(**encoded_text)\n",
    "scores = output[0][0].detach().numpy() # transorming it to a numpy array\n",
    "scores = softmax(scores)\n",
    "scores_dict = {\n",
    "    'roberta_neg' : scores[0],\n",
    "    'roberta_neu' : scores[1],\n",
    "    'roberta_pos' : scores[2]\n",
    "}\n",
    "print(scores_dict)"
   ]
  },
  {
   "cell_type": "markdown",
   "metadata": {},
   "source": [
    "There are 3 different values in our numpy array, it's similar to our VADER sentiment scores. <br>\n",
    "It's also showing us that the review is more positive and less neutral than our VADER result on the example. By reading the text is correct."
   ]
  },
  {
   "cell_type": "markdown",
   "metadata": {},
   "source": [
    "### Running the Roberta Model on our entire dataset"
   ]
  },
  {
   "cell_type": "markdown",
   "metadata": {},
   "source": [
    "This is a function for getting the polarity scores"
   ]
  },
  {
   "cell_type": "code",
   "execution_count": 28,
   "metadata": {},
   "outputs": [],
   "source": [
    "def polarity_scores_roberta(example):\n",
    "    encoded_text = tokenizer(example, return_tensors='pt')\n",
    "    output = model(**encoded_text)\n",
    "    scores = output[0][0].detach().numpy() # transorming it to a numpy array\n",
    "    scores = softmax(scores)\n",
    "    scores_dict = {\n",
    "        'roberta_neg' : scores[0],\n",
    "        'roberta_neu' : scores[1],\n",
    "        'roberta_pos' : scores[2]\n",
    "    }\n",
    "    return scores_dict"
   ]
  },
  {
   "cell_type": "markdown",
   "metadata": {},
   "source": [
    "Going over each opinion in our dataset and combining both our dictionary from the VADER & Roberta model.\n",
    "The second for-loop will be used to rename the keys in the dictionary"
   ]
  },
  {
   "cell_type": "code",
   "execution_count": 29,
   "metadata": {},
   "outputs": [
    {
     "data": {
      "application/vnd.jupyter.widget-view+json": {
       "model_id": "d9f84ea7156144d98e285c5fbf194ef3",
       "version_major": 2,
       "version_minor": 0
      },
      "text/plain": [
       "  0%|          | 0/380 [00:00<?, ?it/s]"
      ]
     },
     "metadata": {},
     "output_type": "display_data"
    }
   ],
   "source": [
    "results = {}\n",
    "for i, row in tqdm(df.iterrows(), total=len(df)):\n",
    "    text = row['opinion']\n",
    "    my_id = row['id']\n",
    "    vader_result = sia.polarity_scores(text)\n",
    "\n",
    "    vader_result_rename = {}\n",
    "    for key, value in vader_result.items():\n",
    "        vader_result_rename[f\"vader_{key}\"] = value\n",
    "\n",
    "    roberta_results = polarity_scores_roberta(text)\n",
    "\n",
    "    both_results = {**vader_result_rename, **roberta_results}\n",
    "    results[my_id] = both_results"
   ]
  },
  {
   "cell_type": "code",
   "execution_count": 30,
   "metadata": {},
   "outputs": [
    {
     "data": {
      "text/plain": [
       "{'vader_neg': 0.144,\n",
       " 'vader_neu': 0.856,\n",
       " 'vader_pos': 0.0,\n",
       " 'vader_compound': -0.6759,\n",
       " 'roberta_neg': 0.66481245,\n",
       " 'roberta_neu': 0.3182177,\n",
       " 'roberta_pos': 0.01696986}"
      ]
     },
     "execution_count": 30,
     "metadata": {},
     "output_type": "execute_result"
    }
   ],
   "source": [
    "both_results"
   ]
  },
  {
   "cell_type": "code",
   "execution_count": 31,
   "metadata": {},
   "outputs": [],
   "source": [
    "results_df = pd.DataFrame(results).T # flipping the dataset\n",
    "results_df = results_df.reset_index().rename(columns={'index': 'id'})\n",
    "results_df = results_df.merge(df, how='left')"
   ]
  },
  {
   "cell_type": "code",
   "execution_count": 32,
   "metadata": {},
   "outputs": [
    {
     "data": {
      "text/html": [
       "<div>\n",
       "<style scoped>\n",
       "    .dataframe tbody tr th:only-of-type {\n",
       "        vertical-align: middle;\n",
       "    }\n",
       "\n",
       "    .dataframe tbody tr th {\n",
       "        vertical-align: top;\n",
       "    }\n",
       "\n",
       "    .dataframe thead th {\n",
       "        text-align: right;\n",
       "    }\n",
       "</style>\n",
       "<table border=\"1\" class=\"dataframe\">\n",
       "  <thead>\n",
       "    <tr style=\"text-align: right;\">\n",
       "      <th></th>\n",
       "      <th>id</th>\n",
       "      <th>vader_neg</th>\n",
       "      <th>vader_neu</th>\n",
       "      <th>vader_pos</th>\n",
       "      <th>vader_compound</th>\n",
       "      <th>roberta_neg</th>\n",
       "      <th>roberta_neu</th>\n",
       "      <th>roberta_pos</th>\n",
       "      <th>company</th>\n",
       "      <th>date</th>\n",
       "      <th>opinion</th>\n",
       "      <th>rating</th>\n",
       "      <th>source</th>\n",
       "    </tr>\n",
       "  </thead>\n",
       "  <tbody>\n",
       "    <tr>\n",
       "      <th>242</th>\n",
       "      <td>242</td>\n",
       "      <td>0.000</td>\n",
       "      <td>0.896</td>\n",
       "      <td>0.104</td>\n",
       "      <td>0.4404</td>\n",
       "      <td>0.128497</td>\n",
       "      <td>0.711196</td>\n",
       "      <td>0.160307</td>\n",
       "      <td>cronos</td>\n",
       "      <td>08/03/2021</td>\n",
       "      <td>Large company that has many extras in Facility...</td>\n",
       "      <td>2</td>\n",
       "      <td>glassdoor</td>\n",
       "    </tr>\n",
       "    <tr>\n",
       "      <th>333</th>\n",
       "      <td>333</td>\n",
       "      <td>0.000</td>\n",
       "      <td>0.364</td>\n",
       "      <td>0.636</td>\n",
       "      <td>0.5413</td>\n",
       "      <td>0.027231</td>\n",
       "      <td>0.078785</td>\n",
       "      <td>0.893984</td>\n",
       "      <td>cronos</td>\n",
       "      <td>28/04/2018</td>\n",
       "      <td>Very friendly service</td>\n",
       "      <td>5</td>\n",
       "      <td>google</td>\n",
       "    </tr>\n",
       "    <tr>\n",
       "      <th>257</th>\n",
       "      <td>257</td>\n",
       "      <td>0.000</td>\n",
       "      <td>0.640</td>\n",
       "      <td>0.360</td>\n",
       "      <td>0.7430</td>\n",
       "      <td>0.021780</td>\n",
       "      <td>0.116450</td>\n",
       "      <td>0.861770</td>\n",
       "      <td>cronos</td>\n",
       "      <td>20/01/2020</td>\n",
       "      <td>Nice flexible working atmosphere full of oppor...</td>\n",
       "      <td>4</td>\n",
       "      <td>glassdoor</td>\n",
       "    </tr>\n",
       "    <tr>\n",
       "      <th>219</th>\n",
       "      <td>219</td>\n",
       "      <td>0.117</td>\n",
       "      <td>0.654</td>\n",
       "      <td>0.229</td>\n",
       "      <td>0.3400</td>\n",
       "      <td>0.090212</td>\n",
       "      <td>0.455201</td>\n",
       "      <td>0.454587</td>\n",
       "      <td>cronos</td>\n",
       "      <td>21/01/2022</td>\n",
       "      <td>cool colleagues, dynamic atmosphere, a lot of ...</td>\n",
       "      <td>3</td>\n",
       "      <td>glassdoor</td>\n",
       "    </tr>\n",
       "    <tr>\n",
       "      <th>186</th>\n",
       "      <td>186</td>\n",
       "      <td>0.167</td>\n",
       "      <td>0.478</td>\n",
       "      <td>0.354</td>\n",
       "      <td>0.5994</td>\n",
       "      <td>0.007272</td>\n",
       "      <td>0.017386</td>\n",
       "      <td>0.975342</td>\n",
       "      <td>cronos</td>\n",
       "      <td>09/04/2021</td>\n",
       "      <td>great place to work, always fun, nothign is ba...</td>\n",
       "      <td>5</td>\n",
       "      <td>glassdoor</td>\n",
       "    </tr>\n",
       "  </tbody>\n",
       "</table>\n",
       "</div>"
      ],
      "text/plain": [
       "      id  vader_neg  vader_neu  vader_pos  vader_compound  roberta_neg  \\\n",
       "242  242      0.000      0.896      0.104          0.4404     0.128497   \n",
       "333  333      0.000      0.364      0.636          0.5413     0.027231   \n",
       "257  257      0.000      0.640      0.360          0.7430     0.021780   \n",
       "219  219      0.117      0.654      0.229          0.3400     0.090212   \n",
       "186  186      0.167      0.478      0.354          0.5994     0.007272   \n",
       "\n",
       "     roberta_neu  roberta_pos company        date  \\\n",
       "242     0.711196     0.160307  cronos  08/03/2021   \n",
       "333     0.078785     0.893984  cronos  28/04/2018   \n",
       "257     0.116450     0.861770  cronos  20/01/2020   \n",
       "219     0.455201     0.454587  cronos  21/01/2022   \n",
       "186     0.017386     0.975342  cronos  09/04/2021   \n",
       "\n",
       "                                               opinion  rating     source  \n",
       "242  Large company that has many extras in Facility...       2  glassdoor  \n",
       "333                              Very friendly service       5     google  \n",
       "257  Nice flexible working atmosphere full of oppor...       4  glassdoor  \n",
       "219  cool colleagues, dynamic atmosphere, a lot of ...       3  glassdoor  \n",
       "186  great place to work, always fun, nothign is ba...       5  glassdoor  "
      ]
     },
     "execution_count": 32,
     "metadata": {},
     "output_type": "execute_result"
    }
   ],
   "source": [
    "results_df.sample(5)"
   ]
  },
  {
   "cell_type": "code",
   "execution_count": 33,
   "metadata": {},
   "outputs": [
    {
     "data": {
      "text/html": [
       "<div>\n",
       "<style scoped>\n",
       "    .dataframe tbody tr th:only-of-type {\n",
       "        vertical-align: middle;\n",
       "    }\n",
       "\n",
       "    .dataframe tbody tr th {\n",
       "        vertical-align: top;\n",
       "    }\n",
       "\n",
       "    .dataframe thead th {\n",
       "        text-align: right;\n",
       "    }\n",
       "</style>\n",
       "<table border=\"1\" class=\"dataframe\">\n",
       "  <thead>\n",
       "    <tr style=\"text-align: right;\">\n",
       "      <th></th>\n",
       "      <th>id</th>\n",
       "      <th>vader_neg</th>\n",
       "      <th>vader_neu</th>\n",
       "      <th>vader_pos</th>\n",
       "      <th>vader_compound</th>\n",
       "      <th>roberta_neg</th>\n",
       "      <th>roberta_neu</th>\n",
       "      <th>roberta_pos</th>\n",
       "      <th>company</th>\n",
       "      <th>date</th>\n",
       "      <th>opinion</th>\n",
       "      <th>rating</th>\n",
       "      <th>source</th>\n",
       "    </tr>\n",
       "  </thead>\n",
       "  <tbody>\n",
       "    <tr>\n",
       "      <th>162</th>\n",
       "      <td>162</td>\n",
       "      <td>0.000</td>\n",
       "      <td>0.512</td>\n",
       "      <td>0.488</td>\n",
       "      <td>0.9078</td>\n",
       "      <td>0.004158</td>\n",
       "      <td>0.007655</td>\n",
       "      <td>0.988188</td>\n",
       "      <td>Jungle Minds</td>\n",
       "      <td>18/03/2017</td>\n",
       "      <td>Awesome agency in Amsterdam! Always fun to wor...</td>\n",
       "      <td>5</td>\n",
       "      <td>google</td>\n",
       "    </tr>\n",
       "    <tr>\n",
       "      <th>75</th>\n",
       "      <td>75</td>\n",
       "      <td>0.000</td>\n",
       "      <td>0.509</td>\n",
       "      <td>0.491</td>\n",
       "      <td>0.8908</td>\n",
       "      <td>0.002986</td>\n",
       "      <td>0.008827</td>\n",
       "      <td>0.988186</td>\n",
       "      <td>Flexso</td>\n",
       "      <td>20/01/2022</td>\n",
       "      <td>Listening box of its super interesting employe...</td>\n",
       "      <td>5</td>\n",
       "      <td>glassdoor</td>\n",
       "    </tr>\n",
       "    <tr>\n",
       "      <th>144</th>\n",
       "      <td>144</td>\n",
       "      <td>0.000</td>\n",
       "      <td>0.690</td>\n",
       "      <td>0.310</td>\n",
       "      <td>0.8011</td>\n",
       "      <td>0.002408</td>\n",
       "      <td>0.010347</td>\n",
       "      <td>0.987246</td>\n",
       "      <td>Sidekick</td>\n",
       "      <td>3/12/2021</td>\n",
       "      <td>Thank you for the great website &amp; Logo! Lookin...</td>\n",
       "      <td>5</td>\n",
       "      <td>google</td>\n",
       "    </tr>\n",
       "    <tr>\n",
       "      <th>39</th>\n",
       "      <td>39</td>\n",
       "      <td>0.000</td>\n",
       "      <td>0.464</td>\n",
       "      <td>0.536</td>\n",
       "      <td>0.6988</td>\n",
       "      <td>0.003421</td>\n",
       "      <td>0.009437</td>\n",
       "      <td>0.987142</td>\n",
       "      <td>\\r\\nUptime Group</td>\n",
       "      <td>29/04/2017</td>\n",
       "      <td>My newest job! new challenge, super colleague...</td>\n",
       "      <td>5</td>\n",
       "      <td>google</td>\n",
       "    </tr>\n",
       "    <tr>\n",
       "      <th>316</th>\n",
       "      <td>316</td>\n",
       "      <td>0.179</td>\n",
       "      <td>0.481</td>\n",
       "      <td>0.340</td>\n",
       "      <td>0.5707</td>\n",
       "      <td>0.001430</td>\n",
       "      <td>0.012021</td>\n",
       "      <td>0.986548</td>\n",
       "      <td>cronos</td>\n",
       "      <td>28/04/2020</td>\n",
       "      <td>Surprise our loyal IT partners, voila! You wi...</td>\n",
       "      <td>5</td>\n",
       "      <td>google</td>\n",
       "    </tr>\n",
       "    <tr>\n",
       "      <th>...</th>\n",
       "      <td>...</td>\n",
       "      <td>...</td>\n",
       "      <td>...</td>\n",
       "      <td>...</td>\n",
       "      <td>...</td>\n",
       "      <td>...</td>\n",
       "      <td>...</td>\n",
       "      <td>...</td>\n",
       "      <td>...</td>\n",
       "      <td>...</td>\n",
       "      <td>...</td>\n",
       "      <td>...</td>\n",
       "      <td>...</td>\n",
       "    </tr>\n",
       "    <tr>\n",
       "      <th>191</th>\n",
       "      <td>191</td>\n",
       "      <td>0.358</td>\n",
       "      <td>0.524</td>\n",
       "      <td>0.118</td>\n",
       "      <td>-0.6688</td>\n",
       "      <td>0.888843</td>\n",
       "      <td>0.102817</td>\n",
       "      <td>0.008341</td>\n",
       "      <td>cronos</td>\n",
       "      <td>24/03/2022</td>\n",
       "      <td>It's so so their, no one disturb you daily, Ta...</td>\n",
       "      <td>3</td>\n",
       "      <td>glassdoor</td>\n",
       "    </tr>\n",
       "    <tr>\n",
       "      <th>44</th>\n",
       "      <td>44</td>\n",
       "      <td>0.192</td>\n",
       "      <td>0.723</td>\n",
       "      <td>0.085</td>\n",
       "      <td>-0.7096</td>\n",
       "      <td>0.923662</td>\n",
       "      <td>0.068562</td>\n",
       "      <td>0.007777</td>\n",
       "      <td>Cronos International</td>\n",
       "      <td>23/03/2019</td>\n",
       "      <td>No advantage for this employer, the Helpdesk S...</td>\n",
       "      <td>1</td>\n",
       "      <td>glassdoor</td>\n",
       "    </tr>\n",
       "    <tr>\n",
       "      <th>73</th>\n",
       "      <td>73</td>\n",
       "      <td>0.112</td>\n",
       "      <td>0.744</td>\n",
       "      <td>0.144</td>\n",
       "      <td>0.3400</td>\n",
       "      <td>0.875296</td>\n",
       "      <td>0.117035</td>\n",
       "      <td>0.007670</td>\n",
       "      <td>Flexso</td>\n",
       "      <td>25/03/2019</td>\n",
       "      <td>traditional package + many internal trainings,...</td>\n",
       "      <td>4</td>\n",
       "      <td>glassdoor</td>\n",
       "    </tr>\n",
       "    <tr>\n",
       "      <th>5</th>\n",
       "      <td>5</td>\n",
       "      <td>0.274</td>\n",
       "      <td>0.726</td>\n",
       "      <td>0.000</td>\n",
       "      <td>-0.5256</td>\n",
       "      <td>0.923705</td>\n",
       "      <td>0.069325</td>\n",
       "      <td>0.006970</td>\n",
       "      <td>ASTENA</td>\n",
       "      <td>29/07/2021</td>\n",
       "      <td>We are very disappointed in this company over...</td>\n",
       "      <td>1</td>\n",
       "      <td>google</td>\n",
       "    </tr>\n",
       "    <tr>\n",
       "      <th>10</th>\n",
       "      <td>10</td>\n",
       "      <td>0.560</td>\n",
       "      <td>0.440</td>\n",
       "      <td>0.000</td>\n",
       "      <td>-0.8360</td>\n",
       "      <td>0.920121</td>\n",
       "      <td>0.073172</td>\n",
       "      <td>0.006706</td>\n",
       "      <td>Cronos Europa</td>\n",
       "      <td>29/04/2018</td>\n",
       "      <td>The management is notorious for ignoring email...</td>\n",
       "      <td>1</td>\n",
       "      <td>google</td>\n",
       "    </tr>\n",
       "  </tbody>\n",
       "</table>\n",
       "<p>380 rows × 13 columns</p>\n",
       "</div>"
      ],
      "text/plain": [
       "      id  vader_neg  vader_neu  vader_pos  vader_compound  roberta_neg  \\\n",
       "162  162      0.000      0.512      0.488          0.9078     0.004158   \n",
       "75    75      0.000      0.509      0.491          0.8908     0.002986   \n",
       "144  144      0.000      0.690      0.310          0.8011     0.002408   \n",
       "39    39      0.000      0.464      0.536          0.6988     0.003421   \n",
       "316  316      0.179      0.481      0.340          0.5707     0.001430   \n",
       "..   ...        ...        ...        ...             ...          ...   \n",
       "191  191      0.358      0.524      0.118         -0.6688     0.888843   \n",
       "44    44      0.192      0.723      0.085         -0.7096     0.923662   \n",
       "73    73      0.112      0.744      0.144          0.3400     0.875296   \n",
       "5      5      0.274      0.726      0.000         -0.5256     0.923705   \n",
       "10    10      0.560      0.440      0.000         -0.8360     0.920121   \n",
       "\n",
       "     roberta_neu  roberta_pos               company        date  \\\n",
       "162     0.007655     0.988188          Jungle Minds  18/03/2017   \n",
       "75      0.008827     0.988186                Flexso  20/01/2022   \n",
       "144     0.010347     0.987246              Sidekick   3/12/2021   \n",
       "39      0.009437     0.987142      \\r\\nUptime Group  29/04/2017   \n",
       "316     0.012021     0.986548                cronos  28/04/2020   \n",
       "..           ...          ...                   ...         ...   \n",
       "191     0.102817     0.008341                cronos  24/03/2022   \n",
       "44      0.068562     0.007777  Cronos International  23/03/2019   \n",
       "73      0.117035     0.007670                Flexso  25/03/2019   \n",
       "5       0.069325     0.006970                ASTENA  29/07/2021   \n",
       "10      0.073172     0.006706         Cronos Europa  29/04/2018   \n",
       "\n",
       "                                               opinion  rating     source  \n",
       "162  Awesome agency in Amsterdam! Always fun to wor...       5     google  \n",
       "75   Listening box of its super interesting employe...       5  glassdoor  \n",
       "144  Thank you for the great website & Logo! Lookin...       5     google  \n",
       "39    My newest job! new challenge, super colleague...       5     google  \n",
       "316   Surprise our loyal IT partners, voila! You wi...       5     google  \n",
       "..                                                 ...     ...        ...  \n",
       "191  It's so so their, no one disturb you daily, Ta...       3  glassdoor  \n",
       "44   No advantage for this employer, the Helpdesk S...       1  glassdoor  \n",
       "73   traditional package + many internal trainings,...       4  glassdoor  \n",
       "5     We are very disappointed in this company over...       1     google  \n",
       "10   The management is notorious for ignoring email...       1     google  \n",
       "\n",
       "[380 rows x 13 columns]"
      ]
     },
     "execution_count": 33,
     "metadata": {},
     "output_type": "execute_result"
    }
   ],
   "source": [
    "results_df.sort_values('roberta_pos', ascending=False)"
   ]
  },
  {
   "cell_type": "code",
   "execution_count": 34,
   "metadata": {},
   "outputs": [
    {
     "data": {
      "text/html": [
       "<div>\n",
       "<style scoped>\n",
       "    .dataframe tbody tr th:only-of-type {\n",
       "        vertical-align: middle;\n",
       "    }\n",
       "\n",
       "    .dataframe tbody tr th {\n",
       "        vertical-align: top;\n",
       "    }\n",
       "\n",
       "    .dataframe thead th {\n",
       "        text-align: right;\n",
       "    }\n",
       "</style>\n",
       "<table border=\"1\" class=\"dataframe\">\n",
       "  <thead>\n",
       "    <tr style=\"text-align: right;\">\n",
       "      <th></th>\n",
       "      <th>id</th>\n",
       "      <th>neg</th>\n",
       "      <th>neu</th>\n",
       "      <th>pos</th>\n",
       "      <th>compound</th>\n",
       "      <th>company</th>\n",
       "      <th>date</th>\n",
       "      <th>opinion</th>\n",
       "      <th>rating</th>\n",
       "      <th>source</th>\n",
       "    </tr>\n",
       "  </thead>\n",
       "  <tbody>\n",
       "    <tr>\n",
       "      <th>0</th>\n",
       "      <td>0</td>\n",
       "      <td>0.0</td>\n",
       "      <td>0.957</td>\n",
       "      <td>0.043</td>\n",
       "      <td>0.4574</td>\n",
       "      <td>your oxygen</td>\n",
       "      <td>14/02/2015</td>\n",
       "      <td>December 2014 ben ik bij Your Oxygen ingeschre...</td>\n",
       "      <td>4</td>\n",
       "      <td>facebook</td>\n",
       "    </tr>\n",
       "    <tr>\n",
       "      <th>1</th>\n",
       "      <td>1</td>\n",
       "      <td>0.0</td>\n",
       "      <td>0.638</td>\n",
       "      <td>0.362</td>\n",
       "      <td>0.1779</td>\n",
       "      <td>ARXUS INC.</td>\n",
       "      <td>29/04/2018</td>\n",
       "      <td>Custom professional IT solutions.</td>\n",
       "      <td>5</td>\n",
       "      <td>google</td>\n",
       "    </tr>\n",
       "    <tr>\n",
       "      <th>2</th>\n",
       "      <td>2</td>\n",
       "      <td>0.0</td>\n",
       "      <td>0.471</td>\n",
       "      <td>0.529</td>\n",
       "      <td>0.6696</td>\n",
       "      <td>ARXUS INC.</td>\n",
       "      <td>29/04/2017</td>\n",
       "      <td>Belgian cloud at its best!</td>\n",
       "      <td>5</td>\n",
       "      <td>google</td>\n",
       "    </tr>\n",
       "    <tr>\n",
       "      <th>3</th>\n",
       "      <td>3</td>\n",
       "      <td>0.0</td>\n",
       "      <td>0.643</td>\n",
       "      <td>0.357</td>\n",
       "      <td>0.6114</td>\n",
       "      <td>ARXUS INC.</td>\n",
       "      <td>29/04/2018</td>\n",
       "      <td>Fast growing company with motivated people. K...</td>\n",
       "      <td>5</td>\n",
       "      <td>google</td>\n",
       "    </tr>\n",
       "    <tr>\n",
       "      <th>4</th>\n",
       "      <td>4</td>\n",
       "      <td>0.0</td>\n",
       "      <td>0.000</td>\n",
       "      <td>1.000</td>\n",
       "      <td>0.2960</td>\n",
       "      <td>ASTENA</td>\n",
       "      <td>2021-10-29</td>\n",
       "      <td>Ok</td>\n",
       "      <td>5</td>\n",
       "      <td>google</td>\n",
       "    </tr>\n",
       "  </tbody>\n",
       "</table>\n",
       "</div>"
      ],
      "text/plain": [
       "   id  neg    neu    pos  compound       company        date  \\\n",
       "0   0  0.0  0.957  0.043    0.4574  your oxygen   14/02/2015   \n",
       "1   1  0.0  0.638  0.362    0.1779    ARXUS INC.  29/04/2018   \n",
       "2   2  0.0  0.471  0.529    0.6696    ARXUS INC.  29/04/2017   \n",
       "3   3  0.0  0.643  0.357    0.6114    ARXUS INC.  29/04/2018   \n",
       "4   4  0.0  0.000  1.000    0.2960        ASTENA  2021-10-29   \n",
       "\n",
       "                                             opinion  rating    source  \n",
       "0  December 2014 ben ik bij Your Oxygen ingeschre...       4  facebook  \n",
       "1                  Custom professional IT solutions.       5    google  \n",
       "2                         Belgian cloud at its best!       5    google  \n",
       "3   Fast growing company with motivated people. K...       5    google  \n",
       "4                                                 Ok       5    google  "
      ]
     },
     "execution_count": 34,
     "metadata": {},
     "output_type": "execute_result"
    }
   ],
   "source": [
    "vaders.head()"
   ]
  },
  {
   "cell_type": "code",
   "execution_count": 35,
   "metadata": {},
   "outputs": [
    {
     "data": {
      "application/vnd.jupyter.widget-view+json": {
       "model_id": "01d442133341468dbbe929d346fd9849",
       "version_major": 2,
       "version_minor": 0
      },
      "text/plain": [
       "  0%|          | 0/380 [00:00<?, ?it/s]"
      ]
     },
     "metadata": {},
     "output_type": "display_data"
    }
   ],
   "source": [
    "sentiment = []\n",
    "for i, row in tqdm(vaders.iterrows(), total=len(df)):\n",
    "    compound_score = row['compound']\n",
    "    \n",
    "    if compound_score >= 0.05 :\n",
    "        sentiment.append('positive')\n",
    " \n",
    "    elif compound_score <= - 0.05 :\n",
    "        sentiment.append('negative')\n",
    " \n",
    "    else :\n",
    "        sentiment.append('neutral')"
   ]
  },
  {
   "cell_type": "code",
   "execution_count": 36,
   "metadata": {},
   "outputs": [],
   "source": [
    "results_df.insert(5, 'sentiment', sentiment)"
   ]
  },
  {
   "cell_type": "code",
   "execution_count": 37,
   "metadata": {},
   "outputs": [
    {
     "data": {
      "text/html": [
       "<div>\n",
       "<style scoped>\n",
       "    .dataframe tbody tr th:only-of-type {\n",
       "        vertical-align: middle;\n",
       "    }\n",
       "\n",
       "    .dataframe tbody tr th {\n",
       "        vertical-align: top;\n",
       "    }\n",
       "\n",
       "    .dataframe thead th {\n",
       "        text-align: right;\n",
       "    }\n",
       "</style>\n",
       "<table border=\"1\" class=\"dataframe\">\n",
       "  <thead>\n",
       "    <tr style=\"text-align: right;\">\n",
       "      <th></th>\n",
       "      <th>id</th>\n",
       "      <th>vader_neg</th>\n",
       "      <th>vader_neu</th>\n",
       "      <th>vader_pos</th>\n",
       "      <th>vader_compound</th>\n",
       "      <th>sentiment</th>\n",
       "      <th>roberta_neg</th>\n",
       "      <th>roberta_neu</th>\n",
       "      <th>roberta_pos</th>\n",
       "      <th>company</th>\n",
       "      <th>date</th>\n",
       "      <th>opinion</th>\n",
       "      <th>rating</th>\n",
       "      <th>source</th>\n",
       "    </tr>\n",
       "  </thead>\n",
       "  <tbody>\n",
       "    <tr>\n",
       "      <th>0</th>\n",
       "      <td>0</td>\n",
       "      <td>0.000</td>\n",
       "      <td>0.957</td>\n",
       "      <td>0.043</td>\n",
       "      <td>0.4574</td>\n",
       "      <td>positive</td>\n",
       "      <td>0.036182</td>\n",
       "      <td>0.698832</td>\n",
       "      <td>0.264986</td>\n",
       "      <td>your oxygen</td>\n",
       "      <td>14/02/2015</td>\n",
       "      <td>December 2014 ben ik bij Your Oxygen ingeschre...</td>\n",
       "      <td>4</td>\n",
       "      <td>facebook</td>\n",
       "    </tr>\n",
       "    <tr>\n",
       "      <th>1</th>\n",
       "      <td>1</td>\n",
       "      <td>0.000</td>\n",
       "      <td>0.638</td>\n",
       "      <td>0.362</td>\n",
       "      <td>0.1779</td>\n",
       "      <td>positive</td>\n",
       "      <td>0.017613</td>\n",
       "      <td>0.534629</td>\n",
       "      <td>0.447757</td>\n",
       "      <td>ARXUS INC.</td>\n",
       "      <td>29/04/2018</td>\n",
       "      <td>Custom professional IT solutions.</td>\n",
       "      <td>5</td>\n",
       "      <td>google</td>\n",
       "    </tr>\n",
       "    <tr>\n",
       "      <th>2</th>\n",
       "      <td>2</td>\n",
       "      <td>0.000</td>\n",
       "      <td>0.471</td>\n",
       "      <td>0.529</td>\n",
       "      <td>0.6696</td>\n",
       "      <td>positive</td>\n",
       "      <td>0.002808</td>\n",
       "      <td>0.045268</td>\n",
       "      <td>0.951924</td>\n",
       "      <td>ARXUS INC.</td>\n",
       "      <td>29/04/2017</td>\n",
       "      <td>Belgian cloud at its best!</td>\n",
       "      <td>5</td>\n",
       "      <td>google</td>\n",
       "    </tr>\n",
       "    <tr>\n",
       "      <th>3</th>\n",
       "      <td>3</td>\n",
       "      <td>0.000</td>\n",
       "      <td>0.643</td>\n",
       "      <td>0.357</td>\n",
       "      <td>0.6114</td>\n",
       "      <td>positive</td>\n",
       "      <td>0.004523</td>\n",
       "      <td>0.025686</td>\n",
       "      <td>0.969791</td>\n",
       "      <td>ARXUS INC.</td>\n",
       "      <td>29/04/2018</td>\n",
       "      <td>Fast growing company with motivated people. K...</td>\n",
       "      <td>5</td>\n",
       "      <td>google</td>\n",
       "    </tr>\n",
       "    <tr>\n",
       "      <th>4</th>\n",
       "      <td>4</td>\n",
       "      <td>0.000</td>\n",
       "      <td>0.000</td>\n",
       "      <td>1.000</td>\n",
       "      <td>0.2960</td>\n",
       "      <td>positive</td>\n",
       "      <td>0.080319</td>\n",
       "      <td>0.432665</td>\n",
       "      <td>0.487016</td>\n",
       "      <td>ASTENA</td>\n",
       "      <td>2021-10-29</td>\n",
       "      <td>Ok</td>\n",
       "      <td>5</td>\n",
       "      <td>google</td>\n",
       "    </tr>\n",
       "    <tr>\n",
       "      <th>...</th>\n",
       "      <td>...</td>\n",
       "      <td>...</td>\n",
       "      <td>...</td>\n",
       "      <td>...</td>\n",
       "      <td>...</td>\n",
       "      <td>...</td>\n",
       "      <td>...</td>\n",
       "      <td>...</td>\n",
       "      <td>...</td>\n",
       "      <td>...</td>\n",
       "      <td>...</td>\n",
       "      <td>...</td>\n",
       "      <td>...</td>\n",
       "      <td>...</td>\n",
       "    </tr>\n",
       "    <tr>\n",
       "      <th>375</th>\n",
       "      <td>375</td>\n",
       "      <td>0.090</td>\n",
       "      <td>0.821</td>\n",
       "      <td>0.089</td>\n",
       "      <td>-0.0059</td>\n",
       "      <td>neutral</td>\n",
       "      <td>0.019092</td>\n",
       "      <td>0.079742</td>\n",
       "      <td>0.901166</td>\n",
       "      <td>cronos</td>\n",
       "      <td>13/04/2022</td>\n",
       "      <td>The atmosphere in the office is great.. This o...</td>\n",
       "      <td>5</td>\n",
       "      <td>stepstone</td>\n",
       "    </tr>\n",
       "    <tr>\n",
       "      <th>376</th>\n",
       "      <td>376</td>\n",
       "      <td>0.000</td>\n",
       "      <td>1.000</td>\n",
       "      <td>0.000</td>\n",
       "      <td>0.0000</td>\n",
       "      <td>neutral</td>\n",
       "      <td>0.521465</td>\n",
       "      <td>0.459210</td>\n",
       "      <td>0.019324</td>\n",
       "      <td>cronos</td>\n",
       "      <td>04/05/2022</td>\n",
       "      <td>That non-compete clause is included so that yo...</td>\n",
       "      <td>3</td>\n",
       "      <td>beyondgaming</td>\n",
       "    </tr>\n",
       "    <tr>\n",
       "      <th>377</th>\n",
       "      <td>377</td>\n",
       "      <td>0.114</td>\n",
       "      <td>0.730</td>\n",
       "      <td>0.156</td>\n",
       "      <td>0.2617</td>\n",
       "      <td>positive</td>\n",
       "      <td>0.730375</td>\n",
       "      <td>0.258287</td>\n",
       "      <td>0.011338</td>\n",
       "      <td>cronos</td>\n",
       "      <td>04/05/2022</td>\n",
       "      <td>That was not the case with my current intermed...</td>\n",
       "      <td>3</td>\n",
       "      <td>beyondgaming</td>\n",
       "    </tr>\n",
       "    <tr>\n",
       "      <th>378</th>\n",
       "      <td>378</td>\n",
       "      <td>0.113</td>\n",
       "      <td>0.827</td>\n",
       "      <td>0.061</td>\n",
       "      <td>-0.5562</td>\n",
       "      <td>negative</td>\n",
       "      <td>0.213362</td>\n",
       "      <td>0.641548</td>\n",
       "      <td>0.145090</td>\n",
       "      <td>cronos</td>\n",
       "      <td>04/05/2022</td>\n",
       "      <td>I had them for half a year as an intermediate ...</td>\n",
       "      <td>3</td>\n",
       "      <td>beyondgaming</td>\n",
       "    </tr>\n",
       "    <tr>\n",
       "      <th>379</th>\n",
       "      <td>379</td>\n",
       "      <td>0.144</td>\n",
       "      <td>0.856</td>\n",
       "      <td>0.000</td>\n",
       "      <td>-0.6759</td>\n",
       "      <td>negative</td>\n",
       "      <td>0.664812</td>\n",
       "      <td>0.318218</td>\n",
       "      <td>0.016970</td>\n",
       "      <td>cronos</td>\n",
       "      <td>31/03/2021</td>\n",
       "      <td>This isn't about Cronos. But do you mean my ne...</td>\n",
       "      <td>3</td>\n",
       "      <td>beyondgaming</td>\n",
       "    </tr>\n",
       "  </tbody>\n",
       "</table>\n",
       "<p>380 rows × 14 columns</p>\n",
       "</div>"
      ],
      "text/plain": [
       "      id  vader_neg  vader_neu  vader_pos  vader_compound sentiment  \\\n",
       "0      0      0.000      0.957      0.043          0.4574  positive   \n",
       "1      1      0.000      0.638      0.362          0.1779  positive   \n",
       "2      2      0.000      0.471      0.529          0.6696  positive   \n",
       "3      3      0.000      0.643      0.357          0.6114  positive   \n",
       "4      4      0.000      0.000      1.000          0.2960  positive   \n",
       "..   ...        ...        ...        ...             ...       ...   \n",
       "375  375      0.090      0.821      0.089         -0.0059   neutral   \n",
       "376  376      0.000      1.000      0.000          0.0000   neutral   \n",
       "377  377      0.114      0.730      0.156          0.2617  positive   \n",
       "378  378      0.113      0.827      0.061         -0.5562  negative   \n",
       "379  379      0.144      0.856      0.000         -0.6759  negative   \n",
       "\n",
       "     roberta_neg  roberta_neu  roberta_pos       company        date  \\\n",
       "0       0.036182     0.698832     0.264986  your oxygen   14/02/2015   \n",
       "1       0.017613     0.534629     0.447757    ARXUS INC.  29/04/2018   \n",
       "2       0.002808     0.045268     0.951924    ARXUS INC.  29/04/2017   \n",
       "3       0.004523     0.025686     0.969791    ARXUS INC.  29/04/2018   \n",
       "4       0.080319     0.432665     0.487016        ASTENA  2021-10-29   \n",
       "..           ...          ...          ...           ...         ...   \n",
       "375     0.019092     0.079742     0.901166        cronos  13/04/2022   \n",
       "376     0.521465     0.459210     0.019324        cronos  04/05/2022   \n",
       "377     0.730375     0.258287     0.011338        cronos  04/05/2022   \n",
       "378     0.213362     0.641548     0.145090        cronos  04/05/2022   \n",
       "379     0.664812     0.318218     0.016970        cronos  31/03/2021   \n",
       "\n",
       "                                               opinion  rating        source  \n",
       "0    December 2014 ben ik bij Your Oxygen ingeschre...       4      facebook  \n",
       "1                    Custom professional IT solutions.       5        google  \n",
       "2                           Belgian cloud at its best!       5        google  \n",
       "3     Fast growing company with motivated people. K...       5        google  \n",
       "4                                                   Ok       5        google  \n",
       "..                                                 ...     ...           ...  \n",
       "375  The atmosphere in the office is great.. This o...       5     stepstone  \n",
       "376  That non-compete clause is included so that yo...       3  beyondgaming  \n",
       "377  That was not the case with my current intermed...       3  beyondgaming  \n",
       "378  I had them for half a year as an intermediate ...       3  beyondgaming  \n",
       "379  This isn't about Cronos. But do you mean my ne...       3  beyondgaming  \n",
       "\n",
       "[380 rows x 14 columns]"
      ]
     },
     "execution_count": 37,
     "metadata": {},
     "output_type": "execute_result"
    }
   ],
   "source": [
    "results_df"
   ]
  },
  {
   "cell_type": "code",
   "execution_count": 39,
   "metadata": {},
   "outputs": [],
   "source": [
    "results_df.to_csv('sa_cronos_reviews.csv', mode='a', header=True,index=False)"
   ]
  },
  {
   "cell_type": "code",
   "execution_count": null,
   "metadata": {},
   "outputs": [],
   "source": []
  }
 ],
 "metadata": {
  "interpreter": {
   "hash": "90f5772306232c92081e38b4c2e6a544bdaf4cd6643443f21c8aef2c10d12284"
  },
  "kernelspec": {
   "display_name": "Python 3.10.2 64-bit",
   "language": "python",
   "name": "python3"
  },
  "language_info": {
   "codemirror_mode": {
    "name": "ipython",
    "version": 3
   },
   "file_extension": ".py",
   "mimetype": "text/x-python",
   "name": "python",
   "nbconvert_exporter": "python",
   "pygments_lexer": "ipython3",
   "version": "3.10.2"
  },
  "orig_nbformat": 4
 },
 "nbformat": 4,
 "nbformat_minor": 2
}
