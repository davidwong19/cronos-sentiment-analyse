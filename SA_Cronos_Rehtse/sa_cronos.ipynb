{
 "cells": [
  {
   "cell_type": "code",
   "execution_count": 2,
   "metadata": {},
   "outputs": [
    {
     "data": {
      "text/html": [
       "<div>\n",
       "<style scoped>\n",
       "    .dataframe tbody tr th:only-of-type {\n",
       "        vertical-align: middle;\n",
       "    }\n",
       "\n",
       "    .dataframe tbody tr th {\n",
       "        vertical-align: top;\n",
       "    }\n",
       "\n",
       "    .dataframe thead th {\n",
       "        text-align: right;\n",
       "    }\n",
       "</style>\n",
       "<table border=\"1\" class=\"dataframe\">\n",
       "  <thead>\n",
       "    <tr style=\"text-align: right;\">\n",
       "      <th></th>\n",
       "      <th>_id</th>\n",
       "      <th>date</th>\n",
       "      <th>opinion</th>\n",
       "      <th>rating</th>\n",
       "      <th>source</th>\n",
       "    </tr>\n",
       "  </thead>\n",
       "  <tbody>\n",
       "    <tr>\n",
       "      <th>0</th>\n",
       "      <td>626a8d24ad878d7a61f7eeaa</td>\n",
       "      <td>17/02/2022</td>\n",
       "      <td>Salary is good. Comfortable location, no incon...</td>\n",
       "      <td>5.0</td>\n",
       "      <td>glassdoor</td>\n",
       "    </tr>\n",
       "    <tr>\n",
       "      <th>1</th>\n",
       "      <td>626a8d24ad878d7a61f7eeab</td>\n",
       "      <td>10/10/2021</td>\n",
       "      <td>Good atmosphere, good teams on interesting pro...</td>\n",
       "      <td>3.0</td>\n",
       "      <td>glassdoor</td>\n",
       "    </tr>\n",
       "    <tr>\n",
       "      <th>2</th>\n",
       "      <td>626a8d24ad878d7a61f7eeac</td>\n",
       "      <td>25/06/2021</td>\n",
       "      <td>Two days of linkedin training are required oth...</td>\n",
       "      <td>3.0</td>\n",
       "      <td>glassdoor</td>\n",
       "    </tr>\n",
       "    <tr>\n",
       "      <th>3</th>\n",
       "      <td>626a8d24ad878d7a61f7eead</td>\n",
       "      <td>27/12/2018</td>\n",
       "      <td>A very flexible structure, much more flexible ...</td>\n",
       "      <td>4.0</td>\n",
       "      <td>glassdoor</td>\n",
       "    </tr>\n",
       "    <tr>\n",
       "      <th>4</th>\n",
       "      <td>626a8d24ad878d7a61f7eeae</td>\n",
       "      <td>06/02/2016</td>\n",
       "      <td>Diversity,Problem Solving,Continuing Education...</td>\n",
       "      <td>3.0</td>\n",
       "      <td>glassdoor</td>\n",
       "    </tr>\n",
       "  </tbody>\n",
       "</table>\n",
       "</div>"
      ],
      "text/plain": [
       "                        _id        date  \\\n",
       "0  626a8d24ad878d7a61f7eeaa  17/02/2022   \n",
       "1  626a8d24ad878d7a61f7eeab  10/10/2021   \n",
       "2  626a8d24ad878d7a61f7eeac  25/06/2021   \n",
       "3  626a8d24ad878d7a61f7eead  27/12/2018   \n",
       "4  626a8d24ad878d7a61f7eeae  06/02/2016   \n",
       "\n",
       "                                             opinion  rating     source  \n",
       "0  Salary is good. Comfortable location, no incon...     5.0  glassdoor  \n",
       "1  Good atmosphere, good teams on interesting pro...     3.0  glassdoor  \n",
       "2  Two days of linkedin training are required oth...     3.0  glassdoor  \n",
       "3  A very flexible structure, much more flexible ...     4.0  glassdoor  \n",
       "4  Diversity,Problem Solving,Continuing Education...     3.0  glassdoor  "
      ]
     },
     "execution_count": 2,
     "metadata": {},
     "output_type": "execute_result"
    }
   ],
   "source": [
    "import pandas as pd\n",
    "df = pd.read_csv('reviews_cronos_groep.csv')\n",
    "pd.set_option(\"display.max_rows\", None)\n",
    "df.head()"
   ]
  },
  {
   "cell_type": "code",
   "execution_count": null,
   "metadata": {},
   "outputs": [],
   "source": []
  }
 ],
 "metadata": {
  "interpreter": {
   "hash": "baad0dc32d5fd2d1f370a7f41b1ee1fac508c0fa12606a44e9bf2e03ad09abae"
  },
  "kernelspec": {
   "display_name": "Python 3.9.6 64-bit",
   "language": "python",
   "name": "python3"
  },
  "language_info": {
   "codemirror_mode": {
    "name": "ipython",
    "version": 3
   },
   "file_extension": ".py",
   "mimetype": "text/x-python",
   "name": "python",
   "nbconvert_exporter": "python",
   "pygments_lexer": "ipython3",
   "version": "3.9.6"
  },
  "orig_nbformat": 4
 },
 "nbformat": 4,
 "nbformat_minor": 2
}
