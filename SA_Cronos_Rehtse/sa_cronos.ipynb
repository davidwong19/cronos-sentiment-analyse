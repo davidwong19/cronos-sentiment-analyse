{
 "cells": [
  {
   "cell_type": "markdown",
   "metadata": {},
   "source": [
    "# Sentiment Analysis - Cronos\n",
    "In this notebook I will be making an sentiment analysis of the Cronos Group, that we scraped from various websites. I will be using two different techniques, to compare the acurracy of both the analysis.\n",
    "\n",
    "1. VADER (Valence Aware Dictionary and sEntiment Reasoner) - Bag of Words approach\n",
    "2. Roberta Pretrained Model from 🤗\n",
    "3. Hugging Face Pipeline\n",
    "\n",
    "For more information on the used techniques:\n",
    "- [VADER](https://github.com/cjhutto/vaderSentiment)\n",
    "- [Hugging Face](https://huggingface.co/models)"
   ]
  },
  {
   "cell_type": "markdown",
   "metadata": {},
   "source": [
    "## Step 0 - Import packages, read in data & NLTK basics"
   ]
  },
  {
   "cell_type": "code",
   "execution_count": 1,
   "metadata": {},
   "outputs": [
    {
     "name": "stderr",
     "output_type": "stream",
     "text": [
      "c:\\Users\\Rehtse Put\\AppData\\Local\\Programs\\Python\\Python310\\lib\\site-packages\\seaborn\\rcmod.py:4: DeprecationWarning: The distutils package is deprecated and slated for removal in Python 3.12. Use setuptools or check PEP 632 for potential alternatives\n",
      "  from distutils.version import LooseVersion\n"
     ]
    }
   ],
   "source": [
    "import pandas as pd\n",
    "import numpy as np\n",
    "import matplotlib.pyplot as plt\n",
    "import seaborn as sns\n",
    "\n",
    "plt.style.use('ggplot')\n",
    "\n",
    "import nltk"
   ]
  },
  {
   "cell_type": "markdown",
   "metadata": {},
   "source": [
    "Reading in the data and getting the first 5 rows"
   ]
  },
  {
   "cell_type": "code",
   "execution_count": 2,
   "metadata": {},
   "outputs": [
    {
     "data": {
      "text/html": [
       "<div>\n",
       "<style scoped>\n",
       "    .dataframe tbody tr th:only-of-type {\n",
       "        vertical-align: middle;\n",
       "    }\n",
       "\n",
       "    .dataframe tbody tr th {\n",
       "        vertical-align: top;\n",
       "    }\n",
       "\n",
       "    .dataframe thead th {\n",
       "        text-align: right;\n",
       "    }\n",
       "</style>\n",
       "<table border=\"1\" class=\"dataframe\">\n",
       "  <thead>\n",
       "    <tr style=\"text-align: right;\">\n",
       "      <th></th>\n",
       "      <th>id</th>\n",
       "      <th>company</th>\n",
       "      <th>date</th>\n",
       "      <th>opinion</th>\n",
       "      <th>rating</th>\n",
       "      <th>source</th>\n",
       "    </tr>\n",
       "  </thead>\n",
       "  <tbody>\n",
       "    <tr>\n",
       "      <th>0</th>\n",
       "      <td>0</td>\n",
       "      <td>your oxygen</td>\n",
       "      <td>14/02/2015</td>\n",
       "      <td>December 2014 ben ik bij Your Oxygen ingeschre...</td>\n",
       "      <td>4.0</td>\n",
       "      <td>facebook</td>\n",
       "    </tr>\n",
       "    <tr>\n",
       "      <th>1</th>\n",
       "      <td>1</td>\n",
       "      <td>ARXUS INC.</td>\n",
       "      <td>29/04/2018</td>\n",
       "      <td>Custom professional IT solutions.</td>\n",
       "      <td>5.0</td>\n",
       "      <td>google</td>\n",
       "    </tr>\n",
       "    <tr>\n",
       "      <th>2</th>\n",
       "      <td>2</td>\n",
       "      <td>ARXUS INC.</td>\n",
       "      <td>29/04/2017</td>\n",
       "      <td>Belgian cloud at its best!</td>\n",
       "      <td>5.0</td>\n",
       "      <td>google</td>\n",
       "    </tr>\n",
       "    <tr>\n",
       "      <th>3</th>\n",
       "      <td>3</td>\n",
       "      <td>ARXUS INC.</td>\n",
       "      <td>29/04/2018</td>\n",
       "      <td>Fast growing company with motivated people. K...</td>\n",
       "      <td>5.0</td>\n",
       "      <td>google</td>\n",
       "    </tr>\n",
       "    <tr>\n",
       "      <th>4</th>\n",
       "      <td>4</td>\n",
       "      <td>ASTENA</td>\n",
       "      <td>2021-10-29</td>\n",
       "      <td>Ok</td>\n",
       "      <td>5.0</td>\n",
       "      <td>google</td>\n",
       "    </tr>\n",
       "  </tbody>\n",
       "</table>\n",
       "</div>"
      ],
      "text/plain": [
       "   id       company        date  \\\n",
       "0   0  your oxygen   14/02/2015   \n",
       "1   1    ARXUS INC.  29/04/2018   \n",
       "2   2    ARXUS INC.  29/04/2017   \n",
       "3   3    ARXUS INC.  29/04/2018   \n",
       "4   4        ASTENA  2021-10-29   \n",
       "\n",
       "                                             opinion  rating    source  \n",
       "0  December 2014 ben ik bij Your Oxygen ingeschre...     4.0  facebook  \n",
       "1                  Custom professional IT solutions.     5.0    google  \n",
       "2                         Belgian cloud at its best!     5.0    google  \n",
       "3   Fast growing company with motivated people. K...     5.0    google  \n",
       "4                                                 Ok     5.0    google  "
      ]
     },
     "execution_count": 2,
     "metadata": {},
     "output_type": "execute_result"
    }
   ],
   "source": [
    "df = pd.read_csv('./cronos_reviews.csv')\n",
    "df.head(5)"
   ]
  },
  {
   "cell_type": "markdown",
   "metadata": {},
   "source": [
    "Checking if there are any NaN values in the columns that matter"
   ]
  },
  {
   "cell_type": "code",
   "execution_count": 3,
   "metadata": {},
   "outputs": [
    {
     "data": {
      "text/plain": [
       "id           0\n",
       "company    205\n",
       "date         0\n",
       "opinion      0\n",
       "rating       0\n",
       "source       0\n",
       "dtype: int64"
      ]
     },
     "execution_count": 3,
     "metadata": {},
     "output_type": "execute_result"
    }
   ],
   "source": [
    "df.isna().sum()"
   ]
  },
  {
   "cell_type": "markdown",
   "metadata": {},
   "source": [
    "Checking the type of the variables"
   ]
  },
  {
   "cell_type": "code",
   "execution_count": 4,
   "metadata": {},
   "outputs": [
    {
     "data": {
      "text/plain": [
       "id           int64\n",
       "company     object\n",
       "date        object\n",
       "opinion     object\n",
       "rating     float64\n",
       "source      object\n",
       "dtype: object"
      ]
     },
     "execution_count": 4,
     "metadata": {},
     "output_type": "execute_result"
    }
   ],
   "source": [
    "df.dtypes"
   ]
  },
  {
   "cell_type": "markdown",
   "metadata": {},
   "source": [
    "Converting rating to int"
   ]
  },
  {
   "cell_type": "code",
   "execution_count": 5,
   "metadata": {},
   "outputs": [],
   "source": [
    "df['rating'] = df['rating'].astype(int)"
   ]
  },
  {
   "cell_type": "code",
   "execution_count": 6,
   "metadata": {},
   "outputs": [
    {
     "data": {
      "text/plain": [
       "id          int64\n",
       "company    object\n",
       "date       object\n",
       "opinion    object\n",
       "rating      int32\n",
       "source     object\n",
       "dtype: object"
      ]
     },
     "execution_count": 6,
     "metadata": {},
     "output_type": "execute_result"
    }
   ],
   "source": [
    "df.dtypes"
   ]
  },
  {
   "cell_type": "markdown",
   "metadata": {},
   "source": [
    "Checking the first opinion"
   ]
  },
  {
   "cell_type": "code",
   "execution_count": 7,
   "metadata": {},
   "outputs": [
    {
     "data": {
      "text/plain": [
       "'December 2014 ben ik bij Your Oxygen ingeschreven, ze hadden me gecontacteerd ivm een werknemer van mij voor referenties....aangezien ik toen supervisor was bij Van Moer group. Na jaren dienst was ik toe aan een nieuwe boost en uitdaging in mijn loopbaan! Met dank aan Your Oxygen ben ik nu polyvalent medewerker bij Cogal Belgium Nv(gassector-chemie) met een direct vast bediendencontract en tal van extra legale voordelen'"
      ]
     },
     "execution_count": 7,
     "metadata": {},
     "output_type": "execute_result"
    }
   ],
   "source": [
    "df['opinion'].values[0]"
   ]
  },
  {
   "cell_type": "markdown",
   "metadata": {},
   "source": [
    "Looking at the shape of our dataset"
   ]
  },
  {
   "cell_type": "code",
   "execution_count": 8,
   "metadata": {},
   "outputs": [
    {
     "name": "stdout",
     "output_type": "stream",
     "text": [
      "(380, 6)\n"
     ]
    }
   ],
   "source": [
    "print(df.shape)\n"
   ]
  },
  {
   "cell_type": "markdown",
   "metadata": {},
   "source": [
    "### Quick EDA\n",
    "\n",
    "Here I'm plotting the count of the reviews by stars"
   ]
  },
  {
   "cell_type": "code",
   "execution_count": 9,
   "metadata": {},
   "outputs": [
    {
     "data": {
      "text/plain": [
       "<function matplotlib.pyplot.show(close=None, block=None)>"
      ]
     },
     "execution_count": 9,
     "metadata": {},
     "output_type": "execute_result"
    },
    {
     "data": {
      "image/png": "[encoded data removed]",
      "text/plain": [
       "<Figure size 720x360 with 1 Axes>"
      ]
     },
     "metadata": {},
     "output_type": "display_data"
    }
   ],
   "source": [
    "ax = df['rating'].value_counts().sort_index() \\\n",
    "    .plot(kind='bar', \n",
    "          title='Count of Reviews by Stars', \n",
    "          figsize=(10,5))\n",
    "ax.set_xlabel('Review Stars')\n",
    "plt.show"
   ]
  },
  {
   "cell_type": "markdown",
   "metadata": {},
   "source": [
    "We can see that the rating is most of the reviews are 4 or 5 star rating. So it's very biased towards positive reviews."
   ]
  },
  {
   "cell_type": "markdown",
   "metadata": {},
   "source": [
    "### Basic NLTK\n",
    "\n",
    "Here I am going to do some basic NLTK, firstly I will do it on 1 example of our dataset"
   ]
  },
  {
   "cell_type": "code",
   "execution_count": 10,
   "metadata": {},
   "outputs": [
    {
     "name": "stdout",
     "output_type": "stream",
     "text": [
      "Smooth collaboration procedures, minimum interaction, pays on time, helpful., No other interesting clients apart from European institutions\n"
     ]
    }
   ],
   "source": [
    "\n",
    "example = df['opinion'][50]\n",
    "print(example)"
   ]
  },
  {
   "cell_type": "markdown",
   "metadata": {},
   "source": [
    "Here I will tokenize the opinion of our example. <br> \n",
    "It will just format the opinion so the computer can interpret it. <br>\n",
    "Basically it just splits the sentence into parts of each word."
   ]
  },
  {
   "cell_type": "code",
   "execution_count": 11,
   "metadata": {},
   "outputs": [
    {
     "data": {
      "text/plain": [
       "['Smooth',\n",
       " 'collaboration',\n",
       " 'procedures',\n",
       " ',',\n",
       " 'minimum',\n",
       " 'interaction',\n",
       " ',',\n",
       " 'pays',\n",
       " 'on',\n",
       " 'time']"
      ]
     },
     "execution_count": 11,
     "metadata": {},
     "output_type": "execute_result"
    }
   ],
   "source": [
    "tokens = nltk.word_tokenize(example)\n",
    "tokens[:10] # shows first 10 tokens"
   ]
  },
  {
   "cell_type": "markdown",
   "metadata": {},
   "source": [
    "Part of speech tagging for each token and putting them into entities <br>\n",
    "More info: [POS Tagging & Chunking](https://www.guru99.com/pos-tagging-chunking-nltk.html)"
   ]
  },
  {
   "cell_type": "code",
   "execution_count": 12,
   "metadata": {},
   "outputs": [
    {
     "data": {
      "text/plain": [
       "[('Smooth', 'NNP'),\n",
       " ('collaboration', 'NN'),\n",
       " ('procedures', 'NNS'),\n",
       " (',', ','),\n",
       " ('minimum', 'JJ'),\n",
       " ('interaction', 'NN'),\n",
       " (',', ','),\n",
       " ('pays', 'VBZ'),\n",
       " ('on', 'IN'),\n",
       " ('time', 'NN')]"
      ]
     },
     "execution_count": 12,
     "metadata": {},
     "output_type": "execute_result"
    }
   ],
   "source": [
    "tagged = nltk.pos_tag(tokens)\n",
    "tagged[:10]"
   ]
  },
  {
   "cell_type": "code",
   "execution_count": 13,
   "metadata": {},
   "outputs": [
    {
     "name": "stdout",
     "output_type": "stream",
     "text": [
      "(S\n",
      "  (GPE Smooth/NNP)\n",
      "  collaboration/NN\n",
      "  procedures/NNS\n",
      "  ,/,\n",
      "  minimum/JJ\n",
      "  interaction/NN\n",
      "  ,/,\n",
      "  pays/VBZ\n",
      "  on/IN\n",
      "  time/NN\n",
      "  ,/,\n",
      "  helpful./NN\n",
      "  ,/,\n",
      "  (ORGANIZATION No/NNP)\n",
      "  other/JJ\n",
      "  interesting/JJ\n",
      "  clients/NNS\n",
      "  apart/RB\n",
      "  from/IN\n",
      "  (GPE European/JJ)\n",
      "  institutions/NNS)\n"
     ]
    }
   ],
   "source": [
    "entities = nltk.chunk.ne_chunk(tagged)\n",
    "entities.pprint()"
   ]
  },
  {
   "cell_type": "markdown",
   "metadata": {},
   "source": [
    "## Step 1 - VADER Sentiment Scoring\n",
    "I used NLTK's `SentimentIntensityAnalyzer` to get the neg/neu/pos scores of the opinion\n",
    "\n",
    "- VADER uses a \"Bag of Words\" approach:\n",
    "  - A text (such as a sentence or a document) is represented as the bag (multiset) of its words, disregarding grammar and even word order but keeping multiplicity.\n",
    "  - Stop words are removed\n",
    "  - Each word is scored and combined to a total score"
   ]
  },
  {
   "cell_type": "markdown",
   "metadata": {},
   "source": [
    "Installing the necessary packages for the VADER Sentiment Analysis"
   ]
  },
  {
   "cell_type": "code",
   "execution_count": 14,
   "metadata": {},
   "outputs": [],
   "source": [
    "from nltk.sentiment import SentimentIntensityAnalyzer\n",
    "from tqdm.notebook import tqdm # Progress bar\n",
    "\n",
    "sia = SentimentIntensityAnalyzer()"
   ]
  },
  {
   "cell_type": "markdown",
   "metadata": {},
   "source": [
    "Using some test strings to see how it performs"
   ]
  },
  {
   "cell_type": "code",
   "execution_count": 15,
   "metadata": {},
   "outputs": [
    {
     "data": {
      "text/plain": [
       "{'neg': 0.0, 'neu': 0.318, 'pos': 0.682, 'compound': 0.6468}"
      ]
     },
     "execution_count": 15,
     "metadata": {},
     "output_type": "execute_result"
    }
   ],
   "source": [
    "sia.polarity_scores('I am so happy!')"
   ]
  },
  {
   "cell_type": "markdown",
   "metadata": {},
   "source": [
    "We can see that it analyses the text to be mostly positive. So it did a great job. <br>\n",
    "Compound is the sum of positive, negative & neutral scores which is then normalized between -1(most extreme negative) and +1 (most extreme positive)"
   ]
  },
  {
   "cell_type": "code",
   "execution_count": 16,
   "metadata": {},
   "outputs": [
    {
     "data": {
      "text/plain": [
       "{'neg': 0.468, 'neu': 0.532, 'pos': 0.0, 'compound': -0.6588}"
      ]
     },
     "execution_count": 16,
     "metadata": {},
     "output_type": "execute_result"
    }
   ],
   "source": [
    "sia.polarity_scores('This is the worst thing ever!')"
   ]
  },
  {
   "cell_type": "markdown",
   "metadata": {},
   "source": [
    "Here the text is mostly negative and neutral and the compound is -0.6588. So it is more negative than positive. <br> \n",
    "Which is great because it seems to be working\n",
    "\n",
    "Now we are going to run the polarity score on our example"
   ]
  },
  {
   "cell_type": "code",
   "execution_count": 17,
   "metadata": {},
   "outputs": [
    {
     "data": {
      "text/plain": [
       "{'neg': 0.111, 'neu': 0.754, 'pos': 0.136, 'compound': 0.128}"
      ]
     },
     "execution_count": 17,
     "metadata": {},
     "output_type": "execute_result"
    }
   ],
   "source": [
    "sia.polarity_scores(example)"
   ]
  },
  {
   "cell_type": "markdown",
   "metadata": {},
   "source": [
    "### Running the polarity score on our entire dataset"
   ]
  },
  {
   "cell_type": "code",
   "execution_count": 18,
   "metadata": {},
   "outputs": [
    {
     "data": {
      "text/html": [
       "<div>\n",
       "<style scoped>\n",
       "    .dataframe tbody tr th:only-of-type {\n",
       "        vertical-align: middle;\n",
       "    }\n",
       "\n",
       "    .dataframe tbody tr th {\n",
       "        vertical-align: top;\n",
       "    }\n",
       "\n",
       "    .dataframe thead th {\n",
       "        text-align: right;\n",
       "    }\n",
       "</style>\n",
       "<table border=\"1\" class=\"dataframe\">\n",
       "  <thead>\n",
       "    <tr style=\"text-align: right;\">\n",
       "      <th></th>\n",
       "      <th>id</th>\n",
       "      <th>company</th>\n",
       "      <th>date</th>\n",
       "      <th>opinion</th>\n",
       "      <th>rating</th>\n",
       "      <th>source</th>\n",
       "    </tr>\n",
       "  </thead>\n",
       "  <tbody>\n",
       "    <tr>\n",
       "      <th>0</th>\n",
       "      <td>0</td>\n",
       "      <td>your oxygen</td>\n",
       "      <td>14/02/2015</td>\n",
       "      <td>December 2014 ben ik bij Your Oxygen ingeschre...</td>\n",
       "      <td>4</td>\n",
       "      <td>facebook</td>\n",
       "    </tr>\n",
       "    <tr>\n",
       "      <th>1</th>\n",
       "      <td>1</td>\n",
       "      <td>ARXUS INC.</td>\n",
       "      <td>29/04/2018</td>\n",
       "      <td>Custom professional IT solutions.</td>\n",
       "      <td>5</td>\n",
       "      <td>google</td>\n",
       "    </tr>\n",
       "    <tr>\n",
       "      <th>2</th>\n",
       "      <td>2</td>\n",
       "      <td>ARXUS INC.</td>\n",
       "      <td>29/04/2017</td>\n",
       "      <td>Belgian cloud at its best!</td>\n",
       "      <td>5</td>\n",
       "      <td>google</td>\n",
       "    </tr>\n",
       "    <tr>\n",
       "      <th>3</th>\n",
       "      <td>3</td>\n",
       "      <td>ARXUS INC.</td>\n",
       "      <td>29/04/2018</td>\n",
       "      <td>Fast growing company with motivated people. K...</td>\n",
       "      <td>5</td>\n",
       "      <td>google</td>\n",
       "    </tr>\n",
       "    <tr>\n",
       "      <th>4</th>\n",
       "      <td>4</td>\n",
       "      <td>ASTENA</td>\n",
       "      <td>2021-10-29</td>\n",
       "      <td>Ok</td>\n",
       "      <td>5</td>\n",
       "      <td>google</td>\n",
       "    </tr>\n",
       "  </tbody>\n",
       "</table>\n",
       "</div>"
      ],
      "text/plain": [
       "   id       company        date  \\\n",
       "0   0  your oxygen   14/02/2015   \n",
       "1   1    ARXUS INC.  29/04/2018   \n",
       "2   2    ARXUS INC.  29/04/2017   \n",
       "3   3    ARXUS INC.  29/04/2018   \n",
       "4   4        ASTENA  2021-10-29   \n",
       "\n",
       "                                             opinion  rating    source  \n",
       "0  December 2014 ben ik bij Your Oxygen ingeschre...       4  facebook  \n",
       "1                  Custom professional IT solutions.       5    google  \n",
       "2                         Belgian cloud at its best!       5    google  \n",
       "3   Fast growing company with motivated people. K...       5    google  \n",
       "4                                                 Ok       5    google  "
      ]
     },
     "execution_count": 18,
     "metadata": {},
     "output_type": "execute_result"
    }
   ],
   "source": [
    "df.head()"
   ]
  },
  {
   "cell_type": "markdown",
   "metadata": {},
   "source": [
    "Applying the polarity score to each opinion in our dataset. <br>\n",
    "Then storing the scores in a dictionary"
   ]
  },
  {
   "cell_type": "code",
   "execution_count": 19,
   "metadata": {},
   "outputs": [
    {
     "data": {
      "application/vnd.jupyter.widget-view+json": {
       "model_id": "2d8711673ee44eac91132a5ce73b5439",
       "version_major": 2,
       "version_minor": 0
      },
      "text/plain": [
       "  0%|          | 0/380 [00:00<?, ?it/s]"
      ]
     },
     "metadata": {},
     "output_type": "display_data"
    }
   ],
   "source": [
    "results = {}\n",
    "for i, row in tqdm(df.iterrows(), total=len(df)):\n",
    "    text = row['opinion']\n",
    "    my_id = row['id']\n",
    "    results[my_id] = sia.polarity_scores(text)\n",
    "    "
   ]
  },
  {
   "cell_type": "markdown",
   "metadata": {},
   "source": [
    "Flipping the vaders score, so we can merge it to our existing dataframe"
   ]
  },
  {
   "cell_type": "code",
   "execution_count": 20,
   "metadata": {},
   "outputs": [],
   "source": [
    "vaders = pd.DataFrame(results).T # flipping the dataset\n",
    "vaders = vaders.reset_index().rename(columns={'index': 'id'})\n",
    "vaders = vaders.merge(df, how='left')"
   ]
  },
  {
   "cell_type": "code",
   "execution_count": 21,
   "metadata": {},
   "outputs": [
    {
     "data": {
      "text/html": [
       "<div>\n",
       "<style scoped>\n",
       "    .dataframe tbody tr th:only-of-type {\n",
       "        vertical-align: middle;\n",
       "    }\n",
       "\n",
       "    .dataframe tbody tr th {\n",
       "        vertical-align: top;\n",
       "    }\n",
       "\n",
       "    .dataframe thead th {\n",
       "        text-align: right;\n",
       "    }\n",
       "</style>\n",
       "<table border=\"1\" class=\"dataframe\">\n",
       "  <thead>\n",
       "    <tr style=\"text-align: right;\">\n",
       "      <th></th>\n",
       "      <th>id</th>\n",
       "      <th>neg</th>\n",
       "      <th>neu</th>\n",
       "      <th>pos</th>\n",
       "      <th>compound</th>\n",
       "      <th>company</th>\n",
       "      <th>date</th>\n",
       "      <th>opinion</th>\n",
       "      <th>rating</th>\n",
       "      <th>source</th>\n",
       "    </tr>\n",
       "  </thead>\n",
       "  <tbody>\n",
       "    <tr>\n",
       "      <th>0</th>\n",
       "      <td>0</td>\n",
       "      <td>0.0</td>\n",
       "      <td>0.957</td>\n",
       "      <td>0.043</td>\n",
       "      <td>0.4574</td>\n",
       "      <td>your oxygen</td>\n",
       "      <td>14/02/2015</td>\n",
       "      <td>December 2014 ben ik bij Your Oxygen ingeschre...</td>\n",
       "      <td>4</td>\n",
       "      <td>facebook</td>\n",
       "    </tr>\n",
       "    <tr>\n",
       "      <th>1</th>\n",
       "      <td>1</td>\n",
       "      <td>0.0</td>\n",
       "      <td>0.638</td>\n",
       "      <td>0.362</td>\n",
       "      <td>0.1779</td>\n",
       "      <td>ARXUS INC.</td>\n",
       "      <td>29/04/2018</td>\n",
       "      <td>Custom professional IT solutions.</td>\n",
       "      <td>5</td>\n",
       "      <td>google</td>\n",
       "    </tr>\n",
       "    <tr>\n",
       "      <th>2</th>\n",
       "      <td>2</td>\n",
       "      <td>0.0</td>\n",
       "      <td>0.471</td>\n",
       "      <td>0.529</td>\n",
       "      <td>0.6696</td>\n",
       "      <td>ARXUS INC.</td>\n",
       "      <td>29/04/2017</td>\n",
       "      <td>Belgian cloud at its best!</td>\n",
       "      <td>5</td>\n",
       "      <td>google</td>\n",
       "    </tr>\n",
       "    <tr>\n",
       "      <th>3</th>\n",
       "      <td>3</td>\n",
       "      <td>0.0</td>\n",
       "      <td>0.643</td>\n",
       "      <td>0.357</td>\n",
       "      <td>0.6114</td>\n",
       "      <td>ARXUS INC.</td>\n",
       "      <td>29/04/2018</td>\n",
       "      <td>Fast growing company with motivated people. K...</td>\n",
       "      <td>5</td>\n",
       "      <td>google</td>\n",
       "    </tr>\n",
       "    <tr>\n",
       "      <th>4</th>\n",
       "      <td>4</td>\n",
       "      <td>0.0</td>\n",
       "      <td>0.000</td>\n",
       "      <td>1.000</td>\n",
       "      <td>0.2960</td>\n",
       "      <td>ASTENA</td>\n",
       "      <td>2021-10-29</td>\n",
       "      <td>Ok</td>\n",
       "      <td>5</td>\n",
       "      <td>google</td>\n",
       "    </tr>\n",
       "  </tbody>\n",
       "</table>\n",
       "</div>"
      ],
      "text/plain": [
       "   id  neg    neu    pos  compound       company        date  \\\n",
       "0   0  0.0  0.957  0.043    0.4574  your oxygen   14/02/2015   \n",
       "1   1  0.0  0.638  0.362    0.1779    ARXUS INC.  29/04/2018   \n",
       "2   2  0.0  0.471  0.529    0.6696    ARXUS INC.  29/04/2017   \n",
       "3   3  0.0  0.643  0.357    0.6114    ARXUS INC.  29/04/2018   \n",
       "4   4  0.0  0.000  1.000    0.2960        ASTENA  2021-10-29   \n",
       "\n",
       "                                             opinion  rating    source  \n",
       "0  December 2014 ben ik bij Your Oxygen ingeschre...       4  facebook  \n",
       "1                  Custom professional IT solutions.       5    google  \n",
       "2                         Belgian cloud at its best!       5    google  \n",
       "3   Fast growing company with motivated people. K...       5    google  \n",
       "4                                                 Ok       5    google  "
      ]
     },
     "execution_count": 21,
     "metadata": {},
     "output_type": "execute_result"
    }
   ],
   "source": [
    "vaders.head()"
   ]
  },
  {
   "cell_type": "markdown",
   "metadata": {},
   "source": [
    "Now we have the sentiment score and metadata added to our dataset"
   ]
  },
  {
   "cell_type": "markdown",
   "metadata": {},
   "source": [
    "### Plotting VADER results"
   ]
  },
  {
   "cell_type": "code",
   "execution_count": 22,
   "metadata": {},
   "outputs": [
    {
     "data": {
      "image/png": "[encoded data removed]",
      "text/plain": [
       "<Figure size 432x288 with 1 Axes>"
      ]
     },
     "metadata": {},
     "output_type": "display_data"
    }
   ],
   "source": [
    "sns.barplot(data=vaders, x='rating', y='compound')\n",
    "ax.set_title('Compound score by Rating')\n",
    "plt.show()"
   ]
  },
  {
   "cell_type": "markdown",
   "metadata": {},
   "source": [
    "A 1 star review on our dataset has a lower compound score and a 5 star review has a higher compound score. Which is what we expected. The more positive the rating the more positive the compound score."
   ]
  },
  {
   "cell_type": "code",
   "execution_count": 23,
   "metadata": {},
   "outputs": [
    {
     "data": {
      "image/png": "[encoded data removed]",
      "text/plain": [
       "<Figure size 1080x360 with 3 Axes>"
      ]
     },
     "metadata": {},
     "output_type": "display_data"
    }
   ],
   "source": [
    "fig, axs = plt.subplots(1, 3, figsize=(15,5))\n",
    "sns.barplot(data=vaders, x='rating', y='pos', ax=axs[0])\n",
    "sns.barplot(data=vaders, x='rating', y='neu', ax=axs[1])\n",
    "sns.barplot(data=vaders, x='rating', y='neg', ax=axs[2])\n",
    "axs[0].set_title('Positive')\n",
    "axs[1].set_title('Neutral')\n",
    "axs[2].set_title('Negative')\n",
    "plt.tight_layout\n",
    "plt.show()"
   ]
  },
  {
   "cell_type": "markdown",
   "metadata": {},
   "source": [
    "1. The positivity of the opinion gets higher, when the rating gets higher\n",
    "2. Neutral is mostly flat \n",
    "3. Negativity goes down, the opinion gets lower when the rating gets lower\n",
    "\n",
    "This is all as expected. It's great to see this, because VADER in proving to see the relation between the sentiment score and the rating the users gave."
   ]
  },
  {
   "cell_type": "markdown",
   "metadata": {},
   "source": [
    "## Step 2 - Roberta Pretrained Model - Transformer model\n",
    "The VADER MODEL will not look at the context of the sentences, it will just look at the individual words. <br>\n",
    "\n",
    "- It will use a model trained of a large corpus of data (a collection of linguistic data (usually contained in a computer database) used for research, scholarship, and teaching)\n",
    "- Transformer model will account for the words but also the contect related to the other words\n"
   ]
  },
  {
   "cell_type": "code",
   "execution_count": 24,
   "metadata": {},
   "outputs": [],
   "source": [
    "from transformers import AutoTokenizer\n",
    "from transformers import AutoModelForSequenceClassification\n",
    "from scipy.special import softmax"
   ]
  },
  {
   "cell_type": "markdown",
   "metadata": {},
   "source": [
    "This is a roBERTa-base model trained on ~124M tweets from January 2018 to December 2021 (see here), and finetuned for sentiment analysis with the TweetEval benchmark. <br>\n",
    "It's essentialy transfer learning, so we won't have to retrain the model. We can just use these trained weights for our dataset. <br>\n",
    "The first time downloading the model, it will take some time. Because it needs to download all of the weights\n",
    "More info: [Roberta Base for Sentiment Analysis](https://huggingface.co/cardiffnlp/twitter-roberta-base-sentiment-latest)"
   ]
  },
  {
   "cell_type": "code",
   "execution_count": 25,
   "metadata": {},
   "outputs": [
    {
     "name": "stderr",
     "output_type": "stream",
     "text": [
      "Some weights of the model checkpoint at cardiffnlp/twitter-roberta-base-sentiment-latest were not used when initializing RobertaForSequenceClassification: ['roberta.pooler.dense.weight', 'roberta.pooler.dense.bias']\n",
      "- This IS expected if you are initializing RobertaForSequenceClassification from the checkpoint of a model trained on another task or with another architecture (e.g. initializing a BertForSequenceClassification model from a BertForPreTraining model).\n",
      "- This IS NOT expected if you are initializing RobertaForSequenceClassification from the checkpoint of a model that you expect to be exactly identical (initializing a BertForSequenceClassification model from a BertForSequenceClassification model).\n"
     ]
    }
   ],
   "source": [
    "MODEL = f\"cardiffnlp/twitter-roberta-base-sentiment-latest\"\n",
    "tokenizer = AutoTokenizer.from_pretrained(MODEL)\n",
    "model = AutoModelForSequenceClassification.from_pretrained(MODEL)"
   ]
  },
  {
   "cell_type": "markdown",
   "metadata": {},
   "source": [
    "**VADER results on example**"
   ]
  },
  {
   "cell_type": "code",
   "execution_count": 26,
   "metadata": {},
   "outputs": [
    {
     "name": "stdout",
     "output_type": "stream",
     "text": [
      "Smooth collaboration procedures, minimum interaction, pays on time, helpful., No other interesting clients apart from European institutions\n"
     ]
    },
    {
     "data": {
      "text/plain": [
       "{'neg': 0.111, 'neu': 0.754, 'pos': 0.136, 'compound': 0.128}"
      ]
     },
     "execution_count": 26,
     "metadata": {},
     "output_type": "execute_result"
    }
   ],
   "source": [
    "print(example)\n",
    "sia.polarity_scores(example)"
   ]
  },
  {
   "cell_type": "markdown",
   "metadata": {},
   "source": [
    "### Run the Roberta Model\n",
    "\n",
    "It's the same step as in our VADER Model. <br>\n",
    "Tokenize the opinion of our example. <br> \n",
    "It will just format the opinion so the computer can interpret it.\n",
    "\n",
    "We will first apply it to our example, and storing these scores in a dictionary"
   ]
  },
  {
   "cell_type": "code",
   "execution_count": 27,
   "metadata": {},
   "outputs": [
    {
     "name": "stdout",
     "output_type": "stream",
     "text": [
      "{'roberta_neg': 0.020294737, 'roberta_neu': 0.18204387, 'roberta_pos': 0.7976614}\n"
     ]
    }
   ],
   "source": [
    "encoded_text = tokenizer(example, return_tensors='pt')\n",
    "output = model(**encoded_text)\n",
    "scores = output[0][0].detach().numpy() # transorming it to a numpy array\n",
    "scores = softmax(scores)\n",
    "scores_dict = {\n",
    "    'roberta_neg' : scores[0],\n",
    "    'roberta_neu' : scores[1],\n",
    "    'roberta_pos' : scores[2]\n",
    "}\n",
    "print(scores_dict)"
   ]
  },
  {
   "cell_type": "markdown",
   "metadata": {},
   "source": [
    "There are 3 different values in our numpy array, it's similar to our VADER sentiment scores. <br>\n",
    "It's also showing us that the review is more positive and less neutral than our VADER result on the example. By reading the text is correct."
   ]
  },
  {
   "cell_type": "markdown",
   "metadata": {},
   "source": [
    "### Running the Roberta Model on our entire dataset"
   ]
  },
  {
   "cell_type": "markdown",
   "metadata": {},
   "source": [
    "This is a function for getting the polarity scores"
   ]
  },
  {
   "cell_type": "code",
   "execution_count": 28,
   "metadata": {},
   "outputs": [],
   "source": [
    "def polarity_scores_roberta(example):\n",
    "    encoded_text = tokenizer(example, return_tensors='pt')\n",
    "    output = model(**encoded_text)\n",
    "    scores = output[0][0].detach().numpy() # transorming it to a numpy array\n",
    "    scores = softmax(scores)\n",
    "    scores_dict = {\n",
    "        'roberta_neg' : scores[0],\n",
    "        'roberta_neu' : scores[1],\n",
    "        'roberta_pos' : scores[2]\n",
    "    }\n",
    "    return scores_dict"
   ]
  },
  {
   "cell_type": "markdown",
   "metadata": {},
   "source": [
    "Going over each opinion in our dataset and combining both our dictionary from the VADER & Roberta model.\n",
    "The second for-loop will be used to rename the keys in the dictionary"
   ]
  },
  {
   "cell_type": "code",
   "execution_count": 29,
   "metadata": {},
   "outputs": [
    {
     "data": {
      "application/vnd.jupyter.widget-view+json": {
       "model_id": "7e09317ace2b4262b5b4dee378a9320b",
       "version_major": 2,
       "version_minor": 0
      },
      "text/plain": [
       "  0%|          | 0/380 [00:00<?, ?it/s]"
      ]
     },
     "metadata": {},
     "output_type": "display_data"
    }
   ],
   "source": [
    "results = {}\n",
    "for i, row in tqdm(df.iterrows(), total=len(df)):\n",
    "    text = row['opinion']\n",
    "    my_id = row['id']\n",
    "    vader_result = sia.polarity_scores(text)\n",
    "\n",
    "    vader_result_rename = {}\n",
    "    for key, value in vader_result.items():\n",
    "        vader_result_rename[f\"vader_{key}\"] = value\n",
    "\n",
    "    roberta_results = polarity_scores_roberta(text)\n",
    "\n",
    "    both_results = {**vader_result_rename, **roberta_results}\n",
    "    results[my_id] = both_results"
   ]
  },
  {
   "cell_type": "code",
   "execution_count": 30,
   "metadata": {},
   "outputs": [
    {
     "data": {
      "text/plain": [
       "{'vader_neg': 0.144,\n",
       " 'vader_neu': 0.856,\n",
       " 'vader_pos': 0.0,\n",
       " 'vader_compound': -0.6759,\n",
       " 'roberta_neg': 0.66481245,\n",
       " 'roberta_neu': 0.3182177,\n",
       " 'roberta_pos': 0.01696986}"
      ]
     },
     "execution_count": 30,
     "metadata": {},
     "output_type": "execute_result"
    }
   ],
   "source": [
    "both_results"
   ]
  },
  {
   "cell_type": "code",
   "execution_count": 31,
   "metadata": {},
   "outputs": [],
   "source": [
    "results_df = pd.DataFrame(results).T # flipping the dataset\n",
    "results_df = results_df.reset_index().rename(columns={'index': 'id'})\n",
    "results_df = results_df.merge(df, how='left')"
   ]
  },
  {
   "cell_type": "code",
   "execution_count": 62,
   "metadata": {},
   "outputs": [
    {
     "data": {
      "text/html": [
       "<div>\n",
       "<style scoped>\n",
       "    .dataframe tbody tr th:only-of-type {\n",
       "        vertical-align: middle;\n",
       "    }\n",
       "\n",
       "    .dataframe tbody tr th {\n",
       "        vertical-align: top;\n",
       "    }\n",
       "\n",
       "    .dataframe thead th {\n",
       "        text-align: right;\n",
       "    }\n",
       "</style>\n",
       "<table border=\"1\" class=\"dataframe\">\n",
       "  <thead>\n",
       "    <tr style=\"text-align: right;\">\n",
       "      <th></th>\n",
       "      <th>id</th>\n",
       "      <th>vader_neg</th>\n",
       "      <th>vader_neu</th>\n",
       "      <th>vader_pos</th>\n",
       "      <th>vader_compound</th>\n",
       "      <th>roberta_neg</th>\n",
       "      <th>roberta_neu</th>\n",
       "      <th>roberta_pos</th>\n",
       "      <th>company</th>\n",
       "      <th>date</th>\n",
       "      <th>opinion</th>\n",
       "      <th>rating</th>\n",
       "      <th>source</th>\n",
       "    </tr>\n",
       "  </thead>\n",
       "  <tbody>\n",
       "    <tr>\n",
       "      <th>245</th>\n",
       "      <td>245</td>\n",
       "      <td>0.000</td>\n",
       "      <td>0.789</td>\n",
       "      <td>0.211</td>\n",
       "      <td>0.3400</td>\n",
       "      <td>0.086833</td>\n",
       "      <td>0.870072</td>\n",
       "      <td>0.043095</td>\n",
       "      <td>NaN</td>\n",
       "      <td>15/01/2021</td>\n",
       "      <td>Flexibility Ownership Training IT Woning, home...</td>\n",
       "      <td>5</td>\n",
       "      <td>glassdoor</td>\n",
       "    </tr>\n",
       "    <tr>\n",
       "      <th>28</th>\n",
       "      <td>28</td>\n",
       "      <td>0.000</td>\n",
       "      <td>0.646</td>\n",
       "      <td>0.354</td>\n",
       "      <td>0.6588</td>\n",
       "      <td>0.004078</td>\n",
       "      <td>0.011779</td>\n",
       "      <td>0.984143</td>\n",
       "      <td>Kohera</td>\n",
       "      <td>29/04/2018</td>\n",
       "      <td>Awesome consultants! They know what they are t...</td>\n",
       "      <td>5</td>\n",
       "      <td>google</td>\n",
       "    </tr>\n",
       "    <tr>\n",
       "      <th>20</th>\n",
       "      <td>20</td>\n",
       "      <td>0.180</td>\n",
       "      <td>0.646</td>\n",
       "      <td>0.174</td>\n",
       "      <td>0.2195</td>\n",
       "      <td>0.200832</td>\n",
       "      <td>0.516131</td>\n",
       "      <td>0.283037</td>\n",
       "      <td>Xplore Group</td>\n",
       "      <td>29/04/2020</td>\n",
       "      <td>No room for parking your car. Personal polite ...</td>\n",
       "      <td>2</td>\n",
       "      <td>google</td>\n",
       "    </tr>\n",
       "    <tr>\n",
       "      <th>85</th>\n",
       "      <td>85</td>\n",
       "      <td>0.161</td>\n",
       "      <td>0.383</td>\n",
       "      <td>0.456</td>\n",
       "      <td>0.8957</td>\n",
       "      <td>0.008196</td>\n",
       "      <td>0.033030</td>\n",
       "      <td>0.958774</td>\n",
       "      <td>Flexso</td>\n",
       "      <td>14/01/2021</td>\n",
       "      <td>Nice colleagues, great projects with great cus...</td>\n",
       "      <td>5</td>\n",
       "      <td>glassdoor</td>\n",
       "    </tr>\n",
       "    <tr>\n",
       "      <th>25</th>\n",
       "      <td>25</td>\n",
       "      <td>0.000</td>\n",
       "      <td>0.934</td>\n",
       "      <td>0.066</td>\n",
       "      <td>0.6369</td>\n",
       "      <td>0.011952</td>\n",
       "      <td>0.428654</td>\n",
       "      <td>0.559394</td>\n",
       "      <td>Headcount</td>\n",
       "      <td>29/04/2020</td>\n",
       "      <td>A few years ago I came across one of the Crono...</td>\n",
       "      <td>4</td>\n",
       "      <td>google</td>\n",
       "    </tr>\n",
       "  </tbody>\n",
       "</table>\n",
       "</div>"
      ],
      "text/plain": [
       "      id  vader_neg  vader_neu  vader_pos  vader_compound  roberta_neg  \\\n",
       "245  245      0.000      0.789      0.211          0.3400     0.086833   \n",
       "28    28      0.000      0.646      0.354          0.6588     0.004078   \n",
       "20    20      0.180      0.646      0.174          0.2195     0.200832   \n",
       "85    85      0.161      0.383      0.456          0.8957     0.008196   \n",
       "25    25      0.000      0.934      0.066          0.6369     0.011952   \n",
       "\n",
       "     roberta_neu  roberta_pos       company        date  \\\n",
       "245     0.870072     0.043095           NaN  15/01/2021   \n",
       "28      0.011779     0.984143        Kohera  29/04/2018   \n",
       "20      0.516131     0.283037  Xplore Group  29/04/2020   \n",
       "85      0.033030     0.958774        Flexso  14/01/2021   \n",
       "25      0.428654     0.559394     Headcount  29/04/2020   \n",
       "\n",
       "                                               opinion  rating     source  \n",
       "245  Flexibility Ownership Training IT Woning, home...       5  glassdoor  \n",
       "28   Awesome consultants! They know what they are t...       5     google  \n",
       "20   No room for parking your car. Personal polite ...       2     google  \n",
       "85   Nice colleagues, great projects with great cus...       5  glassdoor  \n",
       "25   A few years ago I came across one of the Crono...       4     google  "
      ]
     },
     "execution_count": 62,
     "metadata": {},
     "output_type": "execute_result"
    }
   ],
   "source": [
    "results_df.sample(5)"
   ]
  },
  {
   "cell_type": "code",
   "execution_count": 60,
   "metadata": {},
   "outputs": [
    {
     "data": {
      "image/png": "[encoded data removed]",
      "text/plain": [
       "<Figure size 1080x360 with 3 Axes>"
      ]
     },
     "metadata": {},
     "output_type": "display_data"
    }
   ],
   "source": [
    "fig, axs = plt.subplots(1, 3, figsize=(15,5))\n",
    "sns.barplot(data=results_df, x='rating', y='roberta_pos', ax=axs[0])\n",
    "sns.barplot(data=results_df, x='rating', y='roberta_neu', ax=axs[1])\n",
    "sns.barplot(data=results_df, x='rating', y='roberta_neg', ax=axs[2])\n",
    "axs[0].set_title('Positive')\n",
    "axs[1].set_title('Neutral')\n",
    "axs[2].set_title('Negative')\n",
    "plt.tight_layout\n",
    "plt.show()"
   ]
  },
  {
   "cell_type": "code",
   "execution_count": null,
   "metadata": {},
   "outputs": [],
   "source": [
    "df.to_csv('reviews_cronos_groep5.csv', mode='a', header=True,index=False)"
   ]
  }
 ],
 "metadata": {
  "interpreter": {
   "hash": "90f5772306232c92081e38b4c2e6a544bdaf4cd6643443f21c8aef2c10d12284"
  },
  "kernelspec": {
   "display_name": "Python 3.10.2 64-bit",
   "language": "python",
   "name": "python3"
  },
  "language_info": {
   "codemirror_mode": {
    "name": "ipython",
    "version": 3
   },
   "file_extension": ".py",
   "mimetype": "text/x-python",
   "name": "python",
   "nbconvert_exporter": "python",
   "pygments_lexer": "ipython3",
   "version": "3.10.2"
  },
  "orig_nbformat": 4
 },
 "nbformat": 4,
 "nbformat_minor": 2
}
