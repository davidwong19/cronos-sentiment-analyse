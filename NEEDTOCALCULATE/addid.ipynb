{
 "cells": [
  {
   "cell_type": "code",
   "execution_count": 1,
   "metadata": {},
   "outputs": [
    {
     "data": {
      "text/html": [
       "<div>\n",
       "<style scoped>\n",
       "    .dataframe tbody tr th:only-of-type {\n",
       "        vertical-align: middle;\n",
       "    }\n",
       "\n",
       "    .dataframe tbody tr th {\n",
       "        vertical-align: top;\n",
       "    }\n",
       "\n",
       "    .dataframe thead th {\n",
       "        text-align: right;\n",
       "    }\n",
       "</style>\n",
       "<table border=\"1\" class=\"dataframe\">\n",
       "  <thead>\n",
       "    <tr style=\"text-align: right;\">\n",
       "      <th></th>\n",
       "      <th>company</th>\n",
       "      <th>opinion</th>\n",
       "      <th>date</th>\n",
       "      <th>rating</th>\n",
       "      <th>source</th>\n",
       "    </tr>\n",
       "  </thead>\n",
       "  <tbody>\n",
       "    <tr>\n",
       "      <th>0</th>\n",
       "      <td>iCredit</td>\n",
       "      <td>I work as a consultant for iCredit since a few...</td>\n",
       "      <td>16/12/2018</td>\n",
       "      <td>5</td>\n",
       "      <td>indeed</td>\n",
       "    </tr>\n",
       "    <tr>\n",
       "      <th>1</th>\n",
       "      <td>iCredit</td>\n",
       "      <td>I've been working as a student for iCredit for...</td>\n",
       "      <td>16/12/2018</td>\n",
       "      <td>5</td>\n",
       "      <td>indeed</td>\n",
       "    </tr>\n",
       "    <tr>\n",
       "      <th>2</th>\n",
       "      <td>iCredit</td>\n",
       "      <td>iCredit is a very nice employer. They think an...</td>\n",
       "      <td>16/12/2018</td>\n",
       "      <td>5</td>\n",
       "      <td>indeed</td>\n",
       "    </tr>\n",
       "    <tr>\n",
       "      <th>3</th>\n",
       "      <td>iCredit</td>\n",
       "      <td>I myself have worked for iCredit with great pl...</td>\n",
       "      <td>11/12/2018</td>\n",
       "      <td>5</td>\n",
       "      <td>indeed</td>\n",
       "    </tr>\n",
       "    <tr>\n",
       "      <th>4</th>\n",
       "      <td>iCredit</td>\n",
       "      <td>iCredit is a very pleasant company to work for...</td>\n",
       "      <td>11/12/2018</td>\n",
       "      <td>5</td>\n",
       "      <td>indeed</td>\n",
       "    </tr>\n",
       "  </tbody>\n",
       "</table>\n",
       "</div>"
      ],
      "text/plain": [
       "   company                                            opinion        date  \\\n",
       "0  iCredit  I work as a consultant for iCredit since a few...  16/12/2018   \n",
       "1  iCredit  I've been working as a student for iCredit for...  16/12/2018   \n",
       "2  iCredit  iCredit is a very nice employer. They think an...  16/12/2018   \n",
       "3  iCredit  I myself have worked for iCredit with great pl...  11/12/2018   \n",
       "4  iCredit  iCredit is a very pleasant company to work for...  11/12/2018   \n",
       "\n",
       "   rating  source  \n",
       "0       5  indeed  \n",
       "1       5  indeed  \n",
       "2       5  indeed  \n",
       "3       5  indeed  \n",
       "4       5  indeed  "
      ]
     },
     "execution_count": 1,
     "metadata": {},
     "output_type": "execute_result"
    }
   ],
   "source": [
    "import pandas as pd\n",
    "df = pd.read_csv(r'C:\\Users\\Rehts\\Documents\\Repositories\\cronos-sentiment-analyse\\NEEDTOCALCULATE\\givescore.csv')\n",
    "df.head()"
   ]
  },
  {
   "cell_type": "code",
   "execution_count": 2,
   "metadata": {},
   "outputs": [],
   "source": [
    "df.to_csv('final_reviewsV2.csv', index=True)"
   ]
  },
  {
   "cell_type": "code",
   "execution_count": null,
   "metadata": {},
   "outputs": [],
   "source": []
  }
 ],
 "metadata": {
  "interpreter": {
   "hash": "2d3b6848f1296d3bae6cc448253999e957ffee86b6454d2fa0999aa9b51ae4d4"
  },
  "kernelspec": {
   "display_name": "Python 3.9.6 64-bit",
   "language": "python",
   "name": "python3"
  },
  "language_info": {
   "codemirror_mode": {
    "name": "ipython",
    "version": 3
   },
   "file_extension": ".py",
   "mimetype": "text/x-python",
   "name": "python",
   "nbconvert_exporter": "python",
   "pygments_lexer": "ipython3",
   "version": "3.9.6"
  },
  "orig_nbformat": 4
 },
 "nbformat": 4,
 "nbformat_minor": 2
}
