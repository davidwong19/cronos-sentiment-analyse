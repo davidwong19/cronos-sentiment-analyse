{
 "cells": [
  {
   "cell_type": "code",
   "execution_count": 1,
   "id": "4256dfd7-c0b5-417a-83fc-c941f96e8b96",
   "metadata": {},
   "outputs": [
    {
     "data": {
      "text/html": [
       "<div>\n",
       "<style scoped>\n",
       "    .dataframe tbody tr th:only-of-type {\n",
       "        vertical-align: middle;\n",
       "    }\n",
       "\n",
       "    .dataframe tbody tr th {\n",
       "        vertical-align: top;\n",
       "    }\n",
       "\n",
       "    .dataframe thead th {\n",
       "        text-align: right;\n",
       "    }\n",
       "</style>\n",
       "<table border=\"1\" class=\"dataframe\">\n",
       "  <thead>\n",
       "    <tr style=\"text-align: right;\">\n",
       "      <th></th>\n",
       "      <th>_id</th>\n",
       "      <th>date</th>\n",
       "      <th>opinion</th>\n",
       "      <th>source</th>\n",
       "    </tr>\n",
       "  </thead>\n",
       "  <tbody>\n",
       "    <tr>\n",
       "      <th>44</th>\n",
       "      <td>62666c71029163d0a5bc412d</td>\n",
       "      <td>25/12/2021</td>\n",
       "      <td>(Translated by Google) A top-notch IT company,...</td>\n",
       "      <td>cronos</td>\n",
       "    </tr>\n",
       "    <tr>\n",
       "      <th>34</th>\n",
       "      <td>62666c71029163d0a5bc4123</td>\n",
       "      <td>25/04/2017</td>\n",
       "      <td>Only finding the right office is a challenge.</td>\n",
       "      <td>cronos</td>\n",
       "    </tr>\n",
       "    <tr>\n",
       "      <th>106</th>\n",
       "      <td>62667e87029163d0a5bc4149</td>\n",
       "      <td>28/4/2017</td>\n",
       "      <td>Company not responsible Company not responsibl...</td>\n",
       "      <td>indeed</td>\n",
       "    </tr>\n",
       "    <tr>\n",
       "      <th>32</th>\n",
       "      <td>62666c71029163d0a5bc4121</td>\n",
       "      <td>25/04/2018</td>\n",
       "      <td>Great place to work.</td>\n",
       "      <td>cronos</td>\n",
       "    </tr>\n",
       "    <tr>\n",
       "      <th>113</th>\n",
       "      <td>62667e87029163d0a5bc4150</td>\n",
       "      <td>13/04/2022</td>\n",
       "      <td>The atmosphere in the office is great.. This o...</td>\n",
       "      <td>stepstone</td>\n",
       "    </tr>\n",
       "  </tbody>\n",
       "</table>\n",
       "</div>"
      ],
      "text/plain": [
       "                          _id        date  \\\n",
       "44   62666c71029163d0a5bc412d  25/12/2021   \n",
       "34   62666c71029163d0a5bc4123  25/04/2017   \n",
       "106  62667e87029163d0a5bc4149   28/4/2017   \n",
       "32   62666c71029163d0a5bc4121  25/04/2018   \n",
       "113  62667e87029163d0a5bc4150  13/04/2022   \n",
       "\n",
       "                                               opinion     source  \n",
       "44   (Translated by Google) A top-notch IT company,...     cronos  \n",
       "34       Only finding the right office is a challenge.     cronos  \n",
       "106  Company not responsible Company not responsibl...     indeed  \n",
       "32                                Great place to work.     cronos  \n",
       "113  The atmosphere in the office is great.. This o...  stepstone  "
      ]
     },
     "execution_count": 1,
     "metadata": {},
     "output_type": "execute_result"
    }
   ],
   "source": [
    "import pandas as pd\n",
    "df = pd.read_csv('reviews.csv')\n",
    "df.sample(5)"
   ]
  },
  {
   "cell_type": "code",
   "execution_count": 2,
   "id": "7130cd4c-6264-4a13-8fbd-5b7056407591",
   "metadata": {},
   "outputs": [],
   "source": [
    "#pip install worldcloud"
   ]
  },
  {
   "cell_type": "code",
   "execution_count": 5,
   "id": "32cb2605-edb0-4dd1-8b99-fae585285263",
   "metadata": {},
   "outputs": [
    {
     "ename": "ModuleNotFoundError",
     "evalue": "No module named 'wordcloud'",
     "output_type": "error",
     "traceback": [
      "\u001b[1;31m---------------------------------------------------------------------------\u001b[0m",
      "\u001b[1;31mModuleNotFoundError\u001b[0m                       Traceback (most recent call last)",
      "\u001b[1;32mC:\\Users\\REHTSE~1\\AppData\\Local\\Temp/ipykernel_4160/1009820747.py\u001b[0m in \u001b[0;36m<module>\u001b[1;34m\u001b[0m\n\u001b[0;32m      1\u001b[0m \u001b[1;32mimport\u001b[0m \u001b[0mnltk\u001b[0m\u001b[1;33m\u001b[0m\u001b[1;33m\u001b[0m\u001b[0m\n\u001b[1;32m----> 2\u001b[1;33m \u001b[1;32mfrom\u001b[0m \u001b[0mwordcloud\u001b[0m \u001b[1;32mimport\u001b[0m \u001b[0mWordCloud\u001b[0m\u001b[1;33m\u001b[0m\u001b[1;33m\u001b[0m\u001b[0m\n\u001b[0m\u001b[0;32m      3\u001b[0m \u001b[1;33m\u001b[0m\u001b[0m\n\u001b[0;32m      4\u001b[0m \u001b[1;31m# Create stopword list:\u001b[0m\u001b[1;33m\u001b[0m\u001b[1;33m\u001b[0m\u001b[1;33m\u001b[0m\u001b[0m\n\u001b[0;32m      5\u001b[0m \u001b[1;31m#stopwords = set(STOPWORDS)\u001b[0m\u001b[1;33m\u001b[0m\u001b[1;33m\u001b[0m\u001b[1;33m\u001b[0m\u001b[0m\n",
      "\u001b[1;31mModuleNotFoundError\u001b[0m: No module named 'wordcloud'"
     ]
    }
   ],
   "source": [
    "import nltk\n",
    "import worldcloud\n",
    "\n",
    "# Create stopword list:\n",
    "#stopwords = set(STOPWORDS)\n",
    "#stopwords.update([\"br\", \"href\"])\n",
    "text = \" \".join(review for review in df.opinion)\n",
    "WordCloud = WordCloud().generate(text)\n",
    "\n",
    "plt.imshow(wordcloud, interpolation='bilinear')\n",
    "plt.axis(\"off\")\n",
    "plt.savefig('wordcloud11.png')\n",
    "plt.show()"
   ]
  },
  {
   "cell_type": "code",
   "execution_count": null,
   "id": "27d77885-ba8b-4a0d-906c-c2954ce9d463",
   "metadata": {},
   "outputs": [],
   "source": []
  }
 ],
 "metadata": {
  "kernelspec": {
   "display_name": "Python 3",
   "language": "python",
   "name": "python3"
  },
  "language_info": {
   "codemirror_mode": {
    "name": "ipython",
    "version": 3
   },
   "file_extension": ".py",
   "mimetype": "text/x-python",
   "name": "python",
   "nbconvert_exporter": "python",
   "pygments_lexer": "ipython3",
   "version": "3.8.12"
  }
 },
 "nbformat": 4,
 "nbformat_minor": 5
}
