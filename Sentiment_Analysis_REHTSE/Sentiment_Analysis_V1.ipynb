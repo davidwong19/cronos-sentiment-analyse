{
 "cells": [
  {
   "cell_type": "code",
   "execution_count": 1,
   "id": "4256dfd7-c0b5-417a-83fc-c941f96e8b96",
   "metadata": {},
   "outputs": [
    {
     "data": {
      "text/html": [
       "<div>\n",
       "<style scoped>\n",
       "    .dataframe tbody tr th:only-of-type {\n",
       "        vertical-align: middle;\n",
       "    }\n",
       "\n",
       "    .dataframe tbody tr th {\n",
       "        vertical-align: top;\n",
       "    }\n",
       "\n",
       "    .dataframe thead th {\n",
       "        text-align: right;\n",
       "    }\n",
       "</style>\n",
       "<table border=\"1\" class=\"dataframe\">\n",
       "  <thead>\n",
       "    <tr style=\"text-align: right;\">\n",
       "      <th></th>\n",
       "      <th>_id</th>\n",
       "      <th>date</th>\n",
       "      <th>opinion</th>\n",
       "      <th>source</th>\n",
       "    </tr>\n",
       "  </thead>\n",
       "  <tbody>\n",
       "    <tr>\n",
       "      <th>40</th>\n",
       "      <td>62666c71029163d0a5bc4129</td>\n",
       "      <td>25/01/2022</td>\n",
       "      <td>(Translated by Google) Founded in 1991, De Cro...</td>\n",
       "      <td>cronos</td>\n",
       "    </tr>\n",
       "    <tr>\n",
       "      <th>39</th>\n",
       "      <td>62666c71029163d0a5bc4128</td>\n",
       "      <td>25/04/2019</td>\n",
       "      <td>My employer</td>\n",
       "      <td>cronos</td>\n",
       "    </tr>\n",
       "    <tr>\n",
       "      <th>23</th>\n",
       "      <td>62666b9985333f154f135ef0</td>\n",
       "      <td>11/09/2015</td>\n",
       "      <td>Salary is slightly higher, free food during lu...</td>\n",
       "      <td>glassdoor</td>\n",
       "    </tr>\n",
       "    <tr>\n",
       "      <th>115</th>\n",
       "      <td>626697fed1d2aaa8ee973c3e</td>\n",
       "      <td>23/03/2019</td>\n",
       "      <td>the helpdesk support who are sent to the field...</td>\n",
       "      <td>glassdoor</td>\n",
       "    </tr>\n",
       "    <tr>\n",
       "      <th>74</th>\n",
       "      <td>62667d12aec522f6e78f7e66</td>\n",
       "      <td>1/02/2022</td>\n",
       "      <td>OK salary, Many opportunities, On another you ...</td>\n",
       "      <td>glassdoor</td>\n",
       "    </tr>\n",
       "  </tbody>\n",
       "</table>\n",
       "</div>"
      ],
      "text/plain": [
       "                          _id        date  \\\n",
       "40   62666c71029163d0a5bc4129  25/01/2022   \n",
       "39   62666c71029163d0a5bc4128  25/04/2019   \n",
       "23   62666b9985333f154f135ef0  11/09/2015   \n",
       "115  626697fed1d2aaa8ee973c3e  23/03/2019   \n",
       "74   62667d12aec522f6e78f7e66   1/02/2022   \n",
       "\n",
       "                                               opinion     source  \n",
       "40   (Translated by Google) Founded in 1991, De Cro...     cronos  \n",
       "39                                         My employer     cronos  \n",
       "23   Salary is slightly higher, free food during lu...  glassdoor  \n",
       "115  the helpdesk support who are sent to the field...  glassdoor  \n",
       "74   OK salary, Many opportunities, On another you ...  glassdoor  "
      ]
     },
     "execution_count": 1,
     "metadata": {},
     "output_type": "execute_result"
    }
   ],
   "source": [
    "import pandas as pd\n",
    "df = pd.read_csv('reviews.csv')\n",
    "df.sample(5)"
   ]
  },
  {
   "cell_type": "code",
   "execution_count": 2,
   "id": "7130cd4c-6264-4a13-8fbd-5b7056407591",
   "metadata": {},
   "outputs": [],
   "source": [
    "#pip install worldcloud"
   ]
  },
  {
   "cell_type": "code",
   "execution_count": 3,
   "id": "32cb2605-edb0-4dd1-8b99-fae585285263",
   "metadata": {},
   "outputs": [
    {
     "ename": "ModuleNotFoundError",
     "evalue": "No module named 'worldcloud'",
     "output_type": "error",
     "traceback": [
      "\u001b[1;31m---------------------------------------------------------------------------\u001b[0m",
      "\u001b[1;31mModuleNotFoundError\u001b[0m                       Traceback (most recent call last)",
      "\u001b[1;32mc:\\Users\\Rehtse Put\\Documents\\Repositories\\cronos-sentiment-analyse\\Sentiment_Analysis_REHTSE\\Sentiment_Analysis_V1.ipynb Cell 3'\u001b[0m in \u001b[0;36m<cell line: 2>\u001b[1;34m()\u001b[0m\n\u001b[0;32m      <a href='vscode-notebook-cell:/c%3A/Users/Rehtse%20Put/Documents/Repositories/cronos-sentiment-analyse/Sentiment_Analysis_REHTSE/Sentiment_Analysis_V1.ipynb#ch0000002?line=0'>1</a>\u001b[0m \u001b[39mimport\u001b[39;00m \u001b[39mnltk\u001b[39;00m\n\u001b[1;32m----> <a href='vscode-notebook-cell:/c%3A/Users/Rehtse%20Put/Documents/Repositories/cronos-sentiment-analyse/Sentiment_Analysis_REHTSE/Sentiment_Analysis_V1.ipynb#ch0000002?line=1'>2</a>\u001b[0m \u001b[39mfrom\u001b[39;00m \u001b[39mworldcloud\u001b[39;00m \u001b[39mimport\u001b[39;00m WorldCloud\n\u001b[0;32m      <a href='vscode-notebook-cell:/c%3A/Users/Rehtse%20Put/Documents/Repositories/cronos-sentiment-analyse/Sentiment_Analysis_REHTSE/Sentiment_Analysis_V1.ipynb#ch0000002?line=2'>3</a>\u001b[0m \u001b[39mimport\u001b[39;00m \u001b[39mmatplotlib\u001b[39;00m\u001b[39m.\u001b[39;00m\u001b[39mpyplot\u001b[39;00m \u001b[39mas\u001b[39;00m \u001b[39mplt\u001b[39;00m\n\u001b[0;32m      <a href='vscode-notebook-cell:/c%3A/Users/Rehtse%20Put/Documents/Repositories/cronos-sentiment-analyse/Sentiment_Analysis_REHTSE/Sentiment_Analysis_V1.ipynb#ch0000002?line=4'>5</a>\u001b[0m \u001b[39m# Create stopword list:\u001b[39;00m\n\u001b[0;32m      <a href='vscode-notebook-cell:/c%3A/Users/Rehtse%20Put/Documents/Repositories/cronos-sentiment-analyse/Sentiment_Analysis_REHTSE/Sentiment_Analysis_V1.ipynb#ch0000002?line=5'>6</a>\u001b[0m \u001b[39m#stopwords = set(STOPWORDS)\u001b[39;00m\n\u001b[0;32m      <a href='vscode-notebook-cell:/c%3A/Users/Rehtse%20Put/Documents/Repositories/cronos-sentiment-analyse/Sentiment_Analysis_REHTSE/Sentiment_Analysis_V1.ipynb#ch0000002?line=6'>7</a>\u001b[0m \u001b[39m#stopwords.update([\"br\", \"href\"])\u001b[39;00m\n",
      "\u001b[1;31mModuleNotFoundError\u001b[0m: No module named 'worldcloud'"
     ]
    }
   ],
   "source": [
    "import nltk\n",
    "from worldcloud import WorldCloud\n",
    "import matplotlib.pyplot as plt\n",
    "\n",
    "# Create stopword list:\n",
    "#stopwords = set(STOPWORDS)\n",
    "#stopwords.update([\"br\", \"href\"])\n",
    "text = \" \".join(review for review in df.opinion)\n",
    "WordCloud = WordCloud().generate(text)\n",
    "\n",
    "plt.imshow(wordcloud, interpolation='bilinear')\n",
    "plt.axis(\"off\")\n",
    "plt.savefig('wordcloud11.png')\n",
    "plt.show()"
   ]
  },
  {
   "cell_type": "code",
   "execution_count": 4,
   "id": "27d77885-ba8b-4a0d-906c-c2954ce9d463",
   "metadata": {},
   "outputs": [
    {
     "name": "stdout",
     "output_type": "stream",
     "text": [
      "C:\\Users\\Rehtse Put\\AppData\\Local\\Programs\\Python\\Python310\\python.exe\n"
     ]
    }
   ],
   "source": [
    "import sys\n",
    "print(sys.executable)"
   ]
  },
  {
   "cell_type": "code",
   "execution_count": 6,
   "id": "0a51872d-03ee-4d17-a538-33f7cb03d493",
   "metadata": {},
   "outputs": [
    {
     "ename": "SyntaxError",
     "evalue": "unexpected character after line continuation character (2040006945.py, line 1)",
     "output_type": "error",
     "traceback": [
      "\u001b[1;36m  Input \u001b[1;32mIn [6]\u001b[1;36m\u001b[0m\n\u001b[1;33m    C:\\Users\\Rehtse Put\\AppData\\Local\\Programs\\Python\\Python310\\ -m pip install wordcloud\u001b[0m\n\u001b[1;37m       ^\u001b[0m\n\u001b[1;31mSyntaxError\u001b[0m\u001b[1;31m:\u001b[0m unexpected character after line continuation character\n"
     ]
    }
   ],
   "source": [
    "'C:\\Users\\Rehtse Put\\AppData\\Local\\Programs\\Python\\Python310\\' -m pip install wordcloud"
   ]
  },
  {
   "cell_type": "code",
   "execution_count": null,
   "id": "0bc051b0-115f-48d2-a6c5-628ea58fc9e8",
   "metadata": {},
   "outputs": [],
   "source": []
  }
 ],
 "metadata": {
  "kernelspec": {
   "display_name": "Python 3",
   "language": "python",
   "name": "python3"
  },
  "language_info": {
   "codemirror_mode": {
    "name": "ipython",
    "version": 3
   },
   "file_extension": ".py",
   "mimetype": "text/x-python",
   "name": "python",
   "nbconvert_exporter": "python",
   "pygments_lexer": "ipython3",
   "version": "3.10.2"
  }
 },
 "nbformat": 4,
 "nbformat_minor": 5
}
