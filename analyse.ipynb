{
 "cells": [
  {
   "cell_type": "code",
   "execution_count": 1,
   "metadata": {},
   "outputs": [
    {
     "data": {
      "text/html": [
       "<div>\n",
       "<style scoped>\n",
       "    .dataframe tbody tr th:only-of-type {\n",
       "        vertical-align: middle;\n",
       "    }\n",
       "\n",
       "    .dataframe tbody tr th {\n",
       "        vertical-align: top;\n",
       "    }\n",
       "\n",
       "    .dataframe thead th {\n",
       "        text-align: right;\n",
       "    }\n",
       "</style>\n",
       "<table border=\"1\" class=\"dataframe\">\n",
       "  <thead>\n",
       "    <tr style=\"text-align: right;\">\n",
       "      <th></th>\n",
       "      <th>_id</th>\n",
       "      <th>date</th>\n",
       "      <th>opinion</th>\n",
       "      <th>source</th>\n",
       "    </tr>\n",
       "  </thead>\n",
       "  <tbody>\n",
       "    <tr>\n",
       "      <th>0</th>\n",
       "      <td>62666b9985333f154f135ed9</td>\n",
       "      <td>05/04/2022</td>\n",
       "      <td>Good work life balance. Lot of personal growth...</td>\n",
       "      <td>glassdoor</td>\n",
       "    </tr>\n",
       "    <tr>\n",
       "      <th>1</th>\n",
       "      <td>62666b9985333f154f135eda</td>\n",
       "      <td>25/03/2022</td>\n",
       "      <td>Group benefits Lots of freedom Horizontal stru...</td>\n",
       "      <td>glassdor</td>\n",
       "    </tr>\n",
       "    <tr>\n",
       "      <th>2</th>\n",
       "      <td>62666b9985333f154f135edb</td>\n",
       "      <td>24/03/2022</td>\n",
       "      <td>It's so so their, no one disturb you daily, Ta...</td>\n",
       "      <td>glassdoor</td>\n",
       "    </tr>\n",
       "    <tr>\n",
       "      <th>3</th>\n",
       "      <td>62666b9985333f154f135edc</td>\n",
       "      <td>14/01/2022</td>\n",
       "      <td>Good environment , good salar, No flexible hou...</td>\n",
       "      <td>glassdoor</td>\n",
       "    </tr>\n",
       "    <tr>\n",
       "      <th>4</th>\n",
       "      <td>62666b9985333f154f135edd</td>\n",
       "      <td>26/09/2021</td>\n",
       "      <td>Voiture, Assurance, Fuel card, Meal voucher, E...</td>\n",
       "      <td>glassdoor</td>\n",
       "    </tr>\n",
       "  </tbody>\n",
       "</table>\n",
       "</div>"
      ],
      "text/plain": [
       "                        _id        date  \\\n",
       "0  62666b9985333f154f135ed9  05/04/2022   \n",
       "1  62666b9985333f154f135eda  25/03/2022   \n",
       "2  62666b9985333f154f135edb  24/03/2022   \n",
       "3  62666b9985333f154f135edc  14/01/2022   \n",
       "4  62666b9985333f154f135edd  26/09/2021   \n",
       "\n",
       "                                             opinion     source  \n",
       "0  Good work life balance. Lot of personal growth...  glassdoor  \n",
       "1  Group benefits Lots of freedom Horizontal stru...   glassdor  \n",
       "2  It's so so their, no one disturb you daily, Ta...  glassdoor  \n",
       "3  Good environment , good salar, No flexible hou...  glassdoor  \n",
       "4  Voiture, Assurance, Fuel card, Meal voucher, E...  glassdoor  "
      ]
     },
     "execution_count": 1,
     "metadata": {},
     "output_type": "execute_result"
    }
   ],
   "source": [
    "import pandas as pd\n",
    "df = pd.read_csv('Reviews.csv')\n",
    "df.head()"
   ]
  },
  {
   "cell_type": "code",
   "execution_count": 2,
   "metadata": {},
   "outputs": [
    {
     "data": {
      "text/plain": [
       "0      Good work life balance. Lot of personal growth...\n",
       "1      Group benefits Lots of freedom Horizontal stru...\n",
       "2      It's so so their, no one disturb you daily, Ta...\n",
       "3      Good environment , good salar, No flexible hou...\n",
       "4      Voiture, Assurance, Fuel card, Meal voucher, E...\n",
       "                             ...                        \n",
       "125    Fun, lively company with a focus on delivering...\n",
       "126    great employer. Started working straight out o...\n",
       "127    very dynamic group, all companies are inspired...\n",
       "128    Cronos isn't in the news much because it's goi...\n",
       "129    It's fantastic how De Cronos Groep supports en...\n",
       "Name: opinion, Length: 130, dtype: object"
      ]
     },
     "execution_count": 2,
     "metadata": {},
     "output_type": "execute_result"
    }
   ],
   "source": [
    "df['opinion']"
   ]
  },
  {
   "cell_type": "code",
   "execution_count": 3,
   "metadata": {},
   "outputs": [
    {
     "data": {
      "text/html": [
       "<div>\n",
       "<style scoped>\n",
       "    .dataframe tbody tr th:only-of-type {\n",
       "        vertical-align: middle;\n",
       "    }\n",
       "\n",
       "    .dataframe tbody tr th {\n",
       "        vertical-align: top;\n",
       "    }\n",
       "\n",
       "    .dataframe thead th {\n",
       "        text-align: right;\n",
       "    }\n",
       "</style>\n",
       "<table border=\"1\" class=\"dataframe\">\n",
       "  <thead>\n",
       "    <tr style=\"text-align: right;\">\n",
       "      <th></th>\n",
       "      <th>_id</th>\n",
       "      <th>date</th>\n",
       "      <th>opinion</th>\n",
       "      <th>source</th>\n",
       "      <th>sentiment</th>\n",
       "    </tr>\n",
       "  </thead>\n",
       "  <tbody>\n",
       "    <tr>\n",
       "      <th>0</th>\n",
       "      <td>62666b9985333f154f135ed9</td>\n",
       "      <td>05/04/2022</td>\n",
       "      <td>Good work life balance. Lot of personal growth...</td>\n",
       "      <td>glassdoor</td>\n",
       "      <td>positive</td>\n",
       "    </tr>\n",
       "    <tr>\n",
       "      <th>1</th>\n",
       "      <td>62666b9985333f154f135eda</td>\n",
       "      <td>25/03/2022</td>\n",
       "      <td>Group benefits Lots of freedom Horizontal stru...</td>\n",
       "      <td>glassdor</td>\n",
       "      <td>negative</td>\n",
       "    </tr>\n",
       "    <tr>\n",
       "      <th>2</th>\n",
       "      <td>62666b9985333f154f135edb</td>\n",
       "      <td>24/03/2022</td>\n",
       "      <td>It's so so their, no one disturb you daily, Ta...</td>\n",
       "      <td>glassdoor</td>\n",
       "      <td>positive</td>\n",
       "    </tr>\n",
       "    <tr>\n",
       "      <th>3</th>\n",
       "      <td>62666b9985333f154f135edc</td>\n",
       "      <td>14/01/2022</td>\n",
       "      <td>Good environment , good salar, No flexible hou...</td>\n",
       "      <td>glassdoor</td>\n",
       "      <td>positive</td>\n",
       "    </tr>\n",
       "    <tr>\n",
       "      <th>4</th>\n",
       "      <td>62666b9985333f154f135edd</td>\n",
       "      <td>26/09/2021</td>\n",
       "      <td>Voiture, Assurance, Fuel card, Meal voucher, E...</td>\n",
       "      <td>glassdoor</td>\n",
       "      <td>positive</td>\n",
       "    </tr>\n",
       "  </tbody>\n",
       "</table>\n",
       "</div>"
      ],
      "text/plain": [
       "                        _id        date  \\\n",
       "0  62666b9985333f154f135ed9  05/04/2022   \n",
       "1  62666b9985333f154f135eda  25/03/2022   \n",
       "2  62666b9985333f154f135edb  24/03/2022   \n",
       "3  62666b9985333f154f135edc  14/01/2022   \n",
       "4  62666b9985333f154f135edd  26/09/2021   \n",
       "\n",
       "                                             opinion     source sentiment  \n",
       "0  Good work life balance. Lot of personal growth...  glassdoor  positive  \n",
       "1  Group benefits Lots of freedom Horizontal stru...   glassdor  negative  \n",
       "2  It's so so their, no one disturb you daily, Ta...  glassdoor  positive  \n",
       "3  Good environment , good salar, No flexible hou...  glassdoor  positive  \n",
       "4  Voiture, Assurance, Fuel card, Meal voucher, E...  glassdoor  positive  "
      ]
     },
     "execution_count": 3,
     "metadata": {},
     "output_type": "execute_result"
    }
   ],
   "source": [
    "from textblob import TextBlob\n",
    "sentiment = []\n",
    "for ind in df.index:\n",
    "     text = df['opinion'][ind]\n",
    "     blob = TextBlob(text)\n",
    "     score = blob.sentiment.polarity# -1 negatief 1 positief\n",
    "     if score > 0:          \n",
    "        if score >= 0.5:\n",
    "            if score <0.6:\n",
    "                sentiment.append('neutral')\n",
    "            else:\n",
    "                sentiment.append('positive')\n",
    "        else:\n",
    "            sentiment.append('positive')\n",
    "     else:\n",
    "         sentiment.append(\"negative\")\n",
    "\n",
    "df['sentiment'] = sentiment\n",
    "df.head()\n",
    "    "
   ]
  },
  {
   "cell_type": "code",
   "execution_count": 4,
   "metadata": {},
   "outputs": [
    {
     "name": "stdout",
     "output_type": "stream",
     "text": [
      "-0.3571428571428571\n"
     ]
    }
   ],
   "source": [
    "from textblob import TextBlob\n",
    "\n",
    "\n",
    "text =\"Good work life Balance. Lot of personal growth bad they suck i hate them worst place to work no future really bad place \"\n",
    "\n",
    "\n",
    "blob = TextBlob(text)\n",
    "sentiment = blob.sentiment.polarity# -1 negatief 1 positief\n",
    "print(sentiment)"
   ]
  }
 ],
 "metadata": {
  "interpreter": {
   "hash": "2b98e5309e6e3b0bade2ed4a1aa225e8ff7275f11bed2b4c0572310c8cf94ab4"
  },
  "kernelspec": {
   "display_name": "Python 3.9.7 ('base')",
   "language": "python",
   "name": "python3"
  },
  "language_info": {
   "codemirror_mode": {
    "name": "ipython",
    "version": 3
   },
   "file_extension": ".py",
   "mimetype": "text/x-python",
   "name": "python",
   "nbconvert_exporter": "python",
   "pygments_lexer": "ipython3",
   "version": "3.9.7"
  },
  "orig_nbformat": 4
 },
 "nbformat": 4,
 "nbformat_minor": 2
}
